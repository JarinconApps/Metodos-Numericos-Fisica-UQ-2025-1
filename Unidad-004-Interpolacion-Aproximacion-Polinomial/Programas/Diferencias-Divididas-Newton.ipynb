{
 "cells": [
  {
   "cell_type": "markdown",
   "metadata": {},
   "source": [
    "### Diferencias Divididas de Newton\n",
    "En este código se construye el código para calcular las diferencias divididas de Newton para el cálculo de polinomios intepoladores mediante la siguiente fórmula recursiva $$a_{n}=\\dfrac{y_{n}-P_{n-1}\\left(x_{n}\\right)}{\\prod_{k=0}^{n-1}\\left(x_{n}-x_{k}\\right)}$$"
   ]
  },
  {
   "cell_type": "code",
   "execution_count": 2,
   "metadata": {},
   "outputs": [],
   "source": [
    "# Importar las librerias necesarias\n",
    "import numpy as np\n",
    "import matplotlib.pyplot as plt\n",
    "from moduloInterpolacion import evalPoly\n",
    "from moduloInterpolacion import MultiplicacionSintetica"
   ]
  },
  {
   "cell_type": "code",
   "execution_count": 14,
   "metadata": {},
   "outputs": [
    {
     "name": "stdout",
     "output_type": "stream",
     "text": [
      "Iteración  1  ----------------------------------------------------------------\n",
      "P1 [2]\n",
      "x_n:  [2]\n",
      "a_n:  [1.]\n",
      "P_n:  [1 2]\n",
      "Iteración  2  ----------------------------------------------------------------\n",
      "P2 [1 2]\n",
      "x_n:  [3]\n",
      "a_n:  [0.]\n",
      "P_n:  [0 1 2]\n",
      "Iteración  3  ----------------------------------------------------------------\n",
      "P3 [0 1 2]\n",
      "x_n:  [4]\n",
      "a_n:  [0.16666667]\n",
      "P_n:  [0 0 1 2]\n",
      "{'P0': [2], 'P1': array([1, 2]), 'P2': array([0, 1, 2]), 'P3': array([0, 0, 1, 2])}\n"
     ]
    }
   ],
   "source": [
    "# Definir el método de las diferencias divididas\n",
    "def DiferenciasDivididas(nodos, console=False):\n",
    "    \n",
    "    # Obtener los nodos de X e Y\n",
    "    x, y = nodos\n",
    "    \n",
    "    # Definir un diccionario para los polinomios y crear el primer polinomio\n",
    "    Poly = {\"P0\": [y[0]]}\n",
    "    \n",
    "    # Crear un ciclo para recorrer todos los nodos\n",
    "    cantNodos = len(x) - 1\n",
    "    for n in range(1, cantNodos):\n",
    "        \n",
    "        # Obtener el polinomio anterior\n",
    "        print(\"Iteración \",n,\" ----------------------------------------------------------------\")\n",
    "        P_ = Poly[\"P\"+str(n-1)]\n",
    "        x_n = np.array([x[n]])\n",
    "        print(\"P\"+str(n), P_)\n",
    "        print(\"x_n: \", x_n)\n",
    "        \n",
    "        # Evaluar el polinomio P_{n-1} en x_n\n",
    "        y_0 = evalPoly(P_, x_n)\n",
    "        \n",
    "        # Calcular la productoria\n",
    "        Prod = 1\n",
    "        for k in range(n):\n",
    "            Prod = Prod * (x[n] - x[k])\n",
    "        \n",
    "        a_n = (y[n] - y_0) / Prod\n",
    "        print(\"a_n: \", a_n)\n",
    "        \n",
    "        # Crear el nuevo polinomio P_n sumando el nuevo coeficiente\n",
    "        P_n = np.insert(P_, 0, a_n)\n",
    "        print(\"P_n: \", P_n)\n",
    "        \n",
    "        # Agregar el polinomio encontrado al diccionario\n",
    "        Poly[\"P\"+str(n)] = P_n\n",
    "    \n",
    "    # Devolver el polinomio\n",
    "    return Poly\n",
    "\n",
    "# Probar el método\n",
    "nodos_x = np.array([1,2,3,4,5])\n",
    "nodos_y = np.array([2,3,5,7,11])\n",
    "nodos = (nodos_x, nodos_y)\n",
    "\n",
    "Poly = DiferenciasDivididas(nodos)\n",
    "print(Poly)    \n",
    "    "
   ]
  }
 ],
 "metadata": {
  "kernelspec": {
   "display_name": "base",
   "language": "python",
   "name": "python3"
  },
  "language_info": {
   "codemirror_mode": {
    "name": "ipython",
    "version": 3
   },
   "file_extension": ".py",
   "mimetype": "text/x-python",
   "name": "python",
   "nbconvert_exporter": "python",
   "pygments_lexer": "ipython3",
   "version": "3.12.7"
  }
 },
 "nbformat": 4,
 "nbformat_minor": 2
}

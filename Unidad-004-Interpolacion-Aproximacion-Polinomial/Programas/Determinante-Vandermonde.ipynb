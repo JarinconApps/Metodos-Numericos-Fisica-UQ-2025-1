{
 "cells": [
  {
   "cell_type": "markdown",
   "metadata": {},
   "source": [
    "# Ejercicio\n",
    "\n",
    "Construir un *programa* en **Python** que verifique que el siguiente determinante se puede calcular mediante la definición del **Determinante de Vandermonde**, comparando el cálculo a través de la formula; y mediante el módulo **np.linalg.det**\n",
    "\n",
    "$$\\begin{vmatrix}1 & 1 & 1 & 1 & 1\\\\\n",
    "1 & 2 & 4 & 8 & 16\\\\\n",
    "1 & 3 & 9 & 27 & 81\\\\\n",
    "1 & 4 & 16 & 64 & 256\\\\\n",
    "1 & 5 & 25 & 125 & 625\n",
    "\\end{vmatrix}$$"
   ]
  },
  {
   "cell_type": "code",
   "execution_count": 1,
   "metadata": {},
   "outputs": [],
   "source": [
    "# Importar las librerias necesarias\n",
    "import numpy as np"
   ]
  },
  {
   "cell_type": "code",
   "execution_count": 2,
   "metadata": {},
   "outputs": [
    {
     "name": "stdout",
     "output_type": "stream",
     "text": [
      "Matriz a Cacular el Determinante: \n",
      " [[  1   1   1   1   1]\n",
      " [  1   2   4   8  16]\n",
      " [  1   3   9  27  81]\n",
      " [  1   4  16  64 256]\n",
      " [  1   5  25 125 625]]\n",
      "Tamaño de la Matriz:  (5, 5)\n",
      "Determinante por Numpy:  287.9999999999998\n",
      "Determinante por Productoria:  288\n"
     ]
    }
   ],
   "source": [
    "# Definir la matriz\n",
    "A = np.array([\n",
    "    [1, 1, 1, 1, 1],\n",
    "    [1, 2, 4, 8, 16],\n",
    "    [1, 3, 9, 27, 81],\n",
    "    [1, 4, 16, 64, 256],\n",
    "    [1, 5, 25, 125, 625]\n",
    "])\n",
    "\n",
    "# Imprimir la matriz\n",
    "print(\"Matriz a Cacular el Determinante: \\n\", A)\n",
    "\n",
    "# Mostrar la forma de la matriz\n",
    "print(\"Tamaño de la Matriz: \", np.shape(A))\n",
    "\n",
    "# Calcular y Mostrar el Determinante con Numpy\n",
    "detA = np.linalg.det(A)\n",
    "print(\"Determinante por Numpy: \", detA)\n",
    "\n",
    "# Calcular el Determinante Mediante la Productoria\n",
    "x = [1, 2, 3, 4, 5]\n",
    "detA_ = 1           # Se inicia el valor del determinante en 1\n",
    "n = np.shape(A)[0]  # Se obtiene la dimensión de la matriz\n",
    "\n",
    "# Se crea el ciclo para las productorias anidadas\n",
    "for i in range(0, n):\n",
    "    for j in range(i, n):\n",
    "\n",
    "        # Calcular la productoria\n",
    "        if i!=j:\n",
    "            detA_ = detA_*(x[i]-x[j])\n",
    "\n",
    "# Mostrar el determinante mediante la productoria\n",
    "print(\"Determinante por Productoria: \", detA_)\n"
   ]
  }
 ],
 "metadata": {
  "kernelspec": {
   "display_name": "base",
   "language": "python",
   "name": "python3"
  },
  "language_info": {
   "codemirror_mode": {
    "name": "ipython",
    "version": 3
   },
   "file_extension": ".py",
   "mimetype": "text/x-python",
   "name": "python",
   "nbconvert_exporter": "python",
   "pygments_lexer": "ipython3",
   "version": "3.12.7"
  }
 },
 "nbformat": 4,
 "nbformat_minor": 2
}

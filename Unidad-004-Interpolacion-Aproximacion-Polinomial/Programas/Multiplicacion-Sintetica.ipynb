{
 "cells": [
  {
   "cell_type": "markdown",
   "metadata": {},
   "source": [
    "### ***Función***: MultiplicacionSintetica\n",
    "- **Descripción:** Dada una lista de puntos, las raíces de un polinomio, calcula los coeficientes del polinomio\n",
    "- **Parámetros:**\n",
    "    - *raices:* Lista de raices del polinomio\n",
    "    - *console:* Valor booleano por defecto en False. Si esta en True permite ver mensajes de los procesos en la consola\n",
    "- **Valor de Retorno:** Una lista con los coeficientes del polinomio"
   ]
  },
  {
   "cell_type": "code",
   "execution_count": 2,
   "metadata": {},
   "outputs": [],
   "source": [
    "# Importar las librerias necesarias\n",
    "import numpy as np"
   ]
  },
  {
   "cell_type": "code",
   "execution_count": 5,
   "metadata": {},
   "outputs": [],
   "source": [
    "# Definimos la función: MultiplicacionSintetica\n",
    "def MultiplicacionSintetica(raices, console=False):\n",
    "\n",
    "    \"\"\"\n",
    "    ## ***Función***: MultiplicacionSintetica\n",
    "    - **Descripción:** Dada una lista de puntos, las raíces de un polinomio, calcula los coeficientes del polinomio\n",
    "    - **Parámetros:**\n",
    "        - *raices:* Lista de raices del polinomio\n",
    "        - *console:* Valor booleano por defecto en False. Si esta en True permite ver mensajes de los procesos en la consola\n",
    "    - **Valor de Retorno:** Una lista con los coeficientes del polinomio\n",
    "    \"\"\"\n",
    "\n",
    "    # Crear la lista de salida\n",
    "    coeficientes = np.array([1, 0])\n",
    "\n",
    "    # Transponer las raíces\n",
    "    raices_ = np.array(raices)\n",
    "    raices_ = -1*raices_\n",
    "\n",
    "    # Crear un ciclo para recorrer las raíces del polinomio\n",
    "    for r in raices_:\n",
    "        \n",
    "        # Multiplicar la raíz por la lista de coeficientes\n",
    "        producto = r*coeficientes\n",
    "        producto = np.insert(producto, 0, 0)\n",
    "        producto = producto[:-1]\n",
    "\n",
    "        # Sumar el producto con los coeficientes\n",
    "        coeficientes = producto +  coeficientes\n",
    "\n",
    "        # Agregar un nuevo cero a la lista de coeficientes\n",
    "        coeficientes = np.append(coeficientes, 0)\n",
    "        if console:\n",
    "            print(\"Coeficientes: \", coeficientes)\n",
    "            print(\"Producto: \", producto)\n",
    "\n",
    "    # Eliminar el último elemento\n",
    "    coeficientes = coeficientes[:-1]\n",
    "    return coeficientes"
   ]
  },
  {
   "cell_type": "markdown",
   "metadata": {},
   "source": [
    "#### ***Pruebas***\n",
    "Probar la función de multiplicación sintética con los siguientes listas de raíces:\n",
    "- [1, 2, 3, 4, 5]\n",
    "- [2, 4, 6, 8, 10]\n",
    "- [2, 3, 5, 7, 11]"
   ]
  },
  {
   "cell_type": "code",
   "execution_count": 6,
   "metadata": {},
   "outputs": [
    {
     "name": "stdout",
     "output_type": "stream",
     "text": [
      "Polinomio:  [  1 -12  49 -78  40]\n",
      "Polinomio:  [    1   -30   340 -1800  4384 -3840]\n",
      "Polinomio:  [    1   -28   288 -1358  2927 -2310]\n"
     ]
    }
   ],
   "source": [
    "# Probar la función de multiplicación sintética\n",
    "raices = np.array([1, 2, 4, 5])\n",
    "coeficientes = MultiplicacionSintetica(raices)\n",
    "print(\"Polinomio: \", coeficientes)\n",
    "\n",
    "raices = np.array([2, 4, 6, 8, 10])\n",
    "coeficientes = MultiplicacionSintetica(raices)\n",
    "print(\"Polinomio: \", coeficientes)\n",
    "\n",
    "raices = np.array([2, 3, 5, 7, 11])\n",
    "coeficientes = MultiplicacionSintetica(raices)\n",
    "print(\"Polinomio: \", coeficientes)"
   ]
  }
 ],
 "metadata": {
  "kernelspec": {
   "display_name": "base",
   "language": "python",
   "name": "python3"
  },
  "language_info": {
   "codemirror_mode": {
    "name": "ipython",
    "version": 3
   },
   "file_extension": ".py",
   "mimetype": "text/x-python",
   "name": "python",
   "nbconvert_exporter": "python",
   "pygments_lexer": "ipython3",
   "version": "3.12.7"
  }
 },
 "nbformat": 4,
 "nbformat_minor": 2
}

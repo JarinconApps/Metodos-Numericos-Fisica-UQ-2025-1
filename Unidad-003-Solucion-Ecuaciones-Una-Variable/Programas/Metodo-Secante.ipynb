{
 "cells": [
  {
   "cell_type": "markdown",
   "metadata": {},
   "source": [
    "# Método de la Secante\n",
    "\n",
    "En este programa vamos a implementar el **Método de la Secante** para encontrar el cero de una función."
   ]
  },
  {
   "cell_type": "code",
   "execution_count": 3,
   "metadata": {},
   "outputs": [],
   "source": [
    "# Importar las librerias necesarias\n",
    "import numpy as np\n",
    "import pandas as pd"
   ]
  },
  {
   "cell_type": "markdown",
   "metadata": {},
   "source": [
    "## ***Función***: Secante\n",
    "- **Descripción:** Calcula el cero de una función aplicando el método de la secante\n",
    "- **Parámetros:** \n",
    "    - *x_0:* Valor inicial\n",
    "    - *x_1:* Valor cercano al inicial\n",
    "    - *Tol:* Tolerancia aceptada para el cálculo del cero\n",
    "    - *funcion:* Función a la cual queremos calcular el cero de la función\n",
    "- **Valor de Retorno:**\n",
    "    - El cero de la función\n",
    "    - Tabla con la sucesión de términos encontrados"
   ]
  },
  {
   "cell_type": "code",
   "execution_count": 24,
   "metadata": {},
   "outputs": [],
   "source": [
    "# Definir la función Secante\n",
    "def Secante(x_0, x_1, Tol, maxItera, funcion):\n",
    "\n",
    "    \"\"\"\n",
    "    ## ***Función***: Secante\n",
    "    - **Descripción:** Calcula el cero de una función aplicando el método de la secante\n",
    "    - **Parámetros:** \n",
    "        - *x_0:* Valor inicial\n",
    "        - *x_1:* Valor cercano al inicial\n",
    "        - *Tol:* Tolerancia aceptada para el cálculo del cero\n",
    "        - *funcion:* Función a la cual queremos calcular el cero de la función\n",
    "    - **Valor de Retorno:**\n",
    "        - El cero de la función\n",
    "        - Tabla con la sucesión de términos encontrados\n",
    "    \"\"\"\n",
    "\n",
    "    \n",
    "\n",
    "    # Aplicar la fórmula de la secante\n",
    "    y_0 = funcion(x_0)\n",
    "    y_1 = funcion(x_1)\n",
    "\n",
    "    # Definir las sucesiones a estudiar\n",
    "    x_n = [x_0, x_1]\n",
    "    f_xn = [np.abs(y_0), np.abs(y_1)]\n",
    "    d_xn = [1, np.abs(x_1 - x_0)]\n",
    "\n",
    "    # Crear el ciclo para calcular recursivamente el valor de la raíz o cero de la función\n",
    "    for n in range(2, maxItera):\n",
    "\n",
    "        x = x_1 - (y_1*(x_1 - x_0)) / (y_1 - y_0)\n",
    "\n",
    "        # Determinar si la sucesión de terminos ha llegado a la convergencia deseada\n",
    "        if np.abs(x - x_1) <= Tol:\n",
    "\n",
    "            # Se devuelve el valor del cero\n",
    "            x_n.append(x)\n",
    "            f_xn.append(np.abs(funcion(x)))\n",
    "            d_xn.append(np.abs(x - x_1))\n",
    "\n",
    "            s_n = {\n",
    "                \"x_n\": x_n,\n",
    "                \"f_xn\": f_xn,\n",
    "                \"d_xn\": d_xn\n",
    "            }\n",
    "            df = pd.DataFrame(s_n)\n",
    "            return x, df\n",
    "        \n",
    "        # Actualizar los valores de las sucesiones\n",
    "        x_0 = x_1\n",
    "        x_1 = x\n",
    "        y_0 = y_1\n",
    "        \n",
    "        y_1 = funcion(x)\n",
    "\n",
    "        # Agregar los valores a las sucesiones\n",
    "        x_n.append(x_1)\n",
    "        f_xn.append(np.abs(y_1))\n",
    "        d_xn.append(np.abs(x_1 - x_0))\n",
    "\n",
    "    s_n = {\n",
    "            \"x_n\": x_n,\n",
    "            \"f_xn\": f_xn,\n",
    "            \"d_xn\": d_xn\n",
    "        }\n",
    "    df = pd.DataFrame(s_n)\n",
    "    \n",
    "    print(\"El algoritmo no alcanzo la convergencia deseada con los pasos establecidos\")\n",
    "    return x, df"
   ]
  },
  {
   "cell_type": "markdown",
   "metadata": {},
   "source": [
    "### Pruebas\n",
    "Probar el **Método de la Secante** para calcular el cero de la función $f(x)=e^{-x}-\\frac{2}{x}+1$ con condiciones iniciales $x_0=0.5$ y $x_1 = 1$"
   ]
  },
  {
   "cell_type": "code",
   "execution_count": 25,
   "metadata": {},
   "outputs": [
    {
     "name": "stdout",
     "output_type": "stream",
     "text": [
      "El algoritmo no alcanzo la convergencia deseada con los pasos establecidos\n",
      "Raíz:  1.6874338809351244\n",
      "        x_n      f_xn      d_xn\n",
      "0  0.500000  2.393469  1.000000\n",
      "1  1.000000  0.632121  0.500000\n",
      "2  1.179442  0.388267  0.179442\n",
      "3  1.465152  0.134003  0.285710\n",
      "4  1.615728  0.039086  0.150576\n",
      "5  1.677734  0.005287  0.062006\n",
      "6  1.687434  0.000238  0.009700\n"
     ]
    }
   ],
   "source": [
    "# Defina la función a calcular el cero\n",
    "def f(x):\n",
    "    return np.exp(-x)-(2/x)+1\n",
    "\n",
    "x, df = Secante(0.5, 1,1e-5, 7, f)\n",
    "\n",
    "print(\"Raíz: \", x)\n",
    "print(df)"
   ]
  }
 ],
 "metadata": {
  "kernelspec": {
   "display_name": "base",
   "language": "python",
   "name": "python3"
  },
  "language_info": {
   "codemirror_mode": {
    "name": "ipython",
    "version": 3
   },
   "file_extension": ".py",
   "mimetype": "text/x-python",
   "name": "python",
   "nbconvert_exporter": "python",
   "pygments_lexer": "ipython3",
   "version": "3.12.7"
  }
 },
 "nbformat": 4,
 "nbformat_minor": 2
}

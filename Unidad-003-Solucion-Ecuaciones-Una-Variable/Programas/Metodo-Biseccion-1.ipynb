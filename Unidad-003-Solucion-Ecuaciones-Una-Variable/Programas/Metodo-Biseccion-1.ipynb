{
 "cells": [
  {
   "cell_type": "markdown",
   "metadata": {},
   "source": [
    "# Método de la Bisección - Forma 1\n",
    "\n",
    "Método para calcular la raíz o cero de una función en un intervalo dado.\n",
    "\n",
    "## ***Función:*** Biseccion\n",
    "- **Descripción:** Calcula la raíz o cero de la función $f$ en el intervalo dado $[a,b]$ con una tolerancia dada.\n",
    "- **Parámetros:**\n",
    "    - *funcion:* Función a la cual se le quiere calcular la raíz o cero\n",
    "    - *a:* inicio del intervalo de evaluación\n",
    "    - *b:* fin del intervalo de evaluación\n",
    "    - *tol:* Máximo error permitido entre la aproximación de la raíz y el valor real.\n",
    "    - *console:* Valor booleano que permite (si True) mostrar los mensajes de procesamiento de la función"
   ]
  },
  {
   "cell_type": "code",
   "execution_count": 1,
   "metadata": {},
   "outputs": [],
   "source": [
    "# Importar las librerias necesarias\n",
    "import numpy as np"
   ]
  },
  {
   "cell_type": "code",
   "execution_count": 4,
   "metadata": {},
   "outputs": [],
   "source": [
    "# Definir la función Biseccion\n",
    "def Biseccion(funcion, a, b, tol, console=False):\n",
    "    \n",
    "    \"\"\"\n",
    "    ## ***Función:*** Biseccion\n",
    "    - **Descripción:** Calcula la raíz o cero de la función $f$ en el intervalo dado $[a,b]$ con una tolerancia dada.\n",
    "    - **Parámetros:**\n",
    "        - *funcion:* Función a la cual se le quiere calcular la raíz o cero\n",
    "        - *a:* inicio del intervalo de evaluación\n",
    "        - *b:* fin del intervalo de evaluación\n",
    "        - *tol:* Máximo error permitido entre la aproximación de la raíz y el valor real.\n",
    "        - *console:* Valor booleano que permite (si True) mostrar los mensajes de procesamiento de la función\n",
    "    \"\"\"\n",
    "    \n",
    "    # Evaluar la función en el punto medio\n",
    "    c = (a + b) / 2\n",
    "    feval = funcion(c)\n",
    "    \n",
    "    # Mientras el punto medio del intervalo no cumpla con la condición de cero aproximado\n",
    "    while abs(feval) >= tol:\n",
    "        \n",
    "        # Determinar el comportamiento de la función\n",
    "        if funcion(a)*funcion(c) < 0:\n",
    "            b = c\n",
    "        else:\n",
    "            a = c\n",
    "            \n",
    "        # Evaluar la función en el punto medio\n",
    "        c = (a + b) / 2\n",
    "        feval = funcion(c)\n",
    "        \n",
    "        if console:\n",
    "            print(\"|f(c)| = \", abs(feval))\n",
    "            print(\"[a,b] = [\",a,\",\",b,\"]\")\n",
    "        \n",
    "    # Damos como valor aproximado del cero el último valor de c hallado\n",
    "    return c"
   ]
  },
  {
   "cell_type": "markdown",
   "metadata": {},
   "source": [
    "### Pruebas\n",
    "Probar la función de bisección para calcular la raíz de la función $f(x) = \\sin(x) + \\cos(x)$ en el intervalo para $x\\in[1,4]$"
   ]
  },
  {
   "cell_type": "code",
   "execution_count": 9,
   "metadata": {},
   "outputs": [
    {
     "name": "stdout",
     "output_type": "stream",
     "text": [
      "|f(c)| =  0.8057398912244449\n",
      "[a,b] = [ 1 , 2.5 ]\n",
      "|f(c)| =  0.32405345511414696\n",
      "[a,b] = [ 1.75 , 2.5 ]\n",
      "|f(c)| =  0.06177367977966641\n",
      "[a,b] = [ 2.125 , 2.5 ]\n",
      "|f(c)| =  0.07075962352466603\n",
      "[a,b] = [ 2.3125 , 2.5 ]\n",
      "|f(c)| =  0.004497912522024805\n",
      "[a,b] = [ 2.3125 , 2.40625 ]\n",
      "|f(c)| =  0.028645751059181546\n",
      "[a,b] = [ 2.3125 , 2.359375 ]\n",
      "|f(c)| =  0.012074748366262433\n",
      "[a,b] = [ 2.3359375 , 2.359375 ]\n",
      "|f(c)| =  0.0037884829555527855\n",
      "[a,b] = [ 2.34765625 , 2.359375 ]\n",
      "|f(c)| =  0.0003547163055122038\n",
      "[a,b] = [ 2.353515625 , 2.359375 ]\n",
      "Raíz:  2.3564453125\n"
     ]
    }
   ],
   "source": [
    "# Probar la función\n",
    "def f(x):\n",
    "    return np.sin(x) + np.cos(x)\n",
    "\n",
    "x = Biseccion(f, 1, 4, 1e-3, console=True)\n",
    "print(\"Raíz: \",x)"
   ]
  }
 ],
 "metadata": {
  "kernelspec": {
   "display_name": "base",
   "language": "python",
   "name": "python3"
  },
  "language_info": {
   "codemirror_mode": {
    "name": "ipython",
    "version": 3
   },
   "file_extension": ".py",
   "mimetype": "text/x-python",
   "name": "python",
   "nbconvert_exporter": "python",
   "pygments_lexer": "ipython3",
   "version": "3.12.7"
  }
 },
 "nbformat": 4,
 "nbformat_minor": 2
}

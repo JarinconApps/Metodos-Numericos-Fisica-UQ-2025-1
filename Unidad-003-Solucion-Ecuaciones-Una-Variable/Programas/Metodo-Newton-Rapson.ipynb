{
 "cells": [
  {
   "cell_type": "markdown",
   "metadata": {},
   "source": [
    "# Método de Newton-Rapson\n",
    "\n",
    "Este programa implementa el método de Newton-Raphson para hallar los ceros de una función."
   ]
  },
  {
   "cell_type": "code",
   "execution_count": 1,
   "metadata": {},
   "outputs": [],
   "source": [
    "# Importar las librerias necesarias\n",
    "import numpy as np\n",
    "import pandas as pd"
   ]
  },
  {
   "cell_type": "code",
   "execution_count": 47,
   "metadata": {},
   "outputs": [],
   "source": [
    "# Definir el método de Newton-Rapson\n",
    "def NewtonRapson(x_0, tol, max_iteraciones, f, df_dx, console=False):\n",
    "\n",
    "    # Iniciar el contador para las iteraciones\n",
    "    n = 0\n",
    "\n",
    "    # Crear las sucesiones\n",
    "    xn_n = []\n",
    "    f_n = []\n",
    "    diff_n = []\n",
    "\n",
    "    # Calculamos el primer valor aproximado de la raíz\n",
    "    x = x = x_0 - (f(x_0) / df_dx(x_0))    \n",
    "\n",
    "    # Mientras  no lleguemos al número máximo de iteraciones\n",
    "    # while n <= max_iteraciones:\n",
    "    while np.abs(x - x_0) >= tol:\n",
    "\n",
    "        # Actualizamos el valor de x_0\n",
    "        x_0 = x\n",
    "\n",
    "        # Calculamos el valor de x_n\n",
    "        x = x_0 - (f(x_0) / df_dx(x_0))\n",
    "        \n",
    "        # Calcular los valores de las sucesiones\n",
    "        xn_n.append(x_0)\n",
    "        f_n.append(np.abs(f(x_0)))\n",
    "        diff_n.append(np.abs(x - x_0))    \n",
    "\n",
    "    # Crear el dataFrame\n",
    "    sucesiones = {\n",
    "        \"x_n\": xn_n,\n",
    "        \"|f(x_n)|\": f_n,\n",
    "        \"|x_n - x_{n-1}|\": diff_n\n",
    "    }\n",
    "    df = pd.DataFrame(sucesiones)\n",
    "    return x, df"
   ]
  },
  {
   "cell_type": "markdown",
   "metadata": {},
   "source": [
    "## Pruebas\n",
    "Probar el método de Newton-Rapson para encontrar la raíz de la siguiente función $f(x) = e^{-x} - \\frac{1}{2}\\ln{x}$ dado $x_0 = 1$"
   ]
  },
  {
   "cell_type": "code",
   "execution_count": 48,
   "metadata": {},
   "outputs": [
    {
     "name": "stdout",
     "output_type": "stream",
     "text": [
      "Raíz/Cero x =  1.537201702578355\n",
      "        x_n      |f(x_n)|  |x_n - x_{n-1}|\n",
      "0  1.423883  6.408337e-02     1.082618e-01\n",
      "1  1.532145  2.737385e-03     5.046693e-03\n",
      "2  1.537192  5.453415e-06     1.009420e-05\n",
      "3  1.537202  2.173273e-11     4.022738e-11\n"
     ]
    }
   ],
   "source": [
    "# Probar el método de Newton-Rapson\n",
    "\n",
    "# Definir la función\n",
    "def f(x):\n",
    "    return np.exp(-x)-(1/2)*np.log(x)\n",
    "\n",
    "# Definir la derivada\n",
    "def df_dx(x):\n",
    "    return -np.exp(-x)-(1 / (2*x))\n",
    "\n",
    "x, df = NewtonRapson(1, 1e-5, 20, f, df_dx)\n",
    "print(\"Raíz/Cero x = \", x)\n",
    "print(df)"
   ]
  }
 ],
 "metadata": {
  "kernelspec": {
   "display_name": "base",
   "language": "python",
   "name": "python3"
  },
  "language_info": {
   "codemirror_mode": {
    "name": "ipython",
    "version": 3
   },
   "file_extension": ".py",
   "mimetype": "text/x-python",
   "name": "python",
   "nbconvert_exporter": "python",
   "pygments_lexer": "ipython3",
   "version": "3.12.7"
  }
 },
 "nbformat": 4,
 "nbformat_minor": 2
}

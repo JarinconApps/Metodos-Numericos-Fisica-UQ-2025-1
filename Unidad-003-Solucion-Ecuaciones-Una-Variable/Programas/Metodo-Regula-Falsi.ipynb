{
 "cells": [
  {
   "cell_type": "markdown",
   "metadata": {},
   "source": [
    "# Método de Regula Falsi\n",
    "\n",
    "Calcula el cero/raíz de una función aplicando el **Método de Regular Falsi**"
   ]
  },
  {
   "cell_type": "code",
   "execution_count": 1,
   "metadata": {},
   "outputs": [],
   "source": [
    "# Importar las librerias necesarias\n",
    "import numpy as np"
   ]
  },
  {
   "cell_type": "markdown",
   "metadata": {},
   "source": [
    "## ***Función:*** regulaFalsi\n",
    "- **Descripción:** Calcula el cero/raíz de una función usando el método de regula falsi\n",
    "- **Parámetros:**\n",
    "    - *x_0:* valor inicial\n",
    "    - *x_1:* siguiente valor de la sucesión de convergencia\n",
    "    - *Tol:* Tolerancia permitida para la aproximación del cero\n",
    "    - *maxItera:* Cantidad máxima de iteraciones\n",
    "    - *funcion:* Función sobre la cual se quiere calcular el cero/raíz\n",
    "- **Valor de Retorno:**\n",
    "    - *x:* cero/raíz de la función\n",
    "    - *df:* DataFrame de las sucesiones generadas en el método "
   ]
  },
  {
   "cell_type": "code",
   "execution_count": null,
   "metadata": {},
   "outputs": [],
   "source": [
    "# Definir el método de regula-falsi\n",
    "def regulaFalsi(x_0, x_1, Tol, maxItera, funcion):\n",
    "    \n",
    "    \"\"\"\n",
    "    ## ***Función:*** regulaFalsi\n",
    "    - **Descripción:** Calcula el cero/raíz de una función usando el método de regula falsi\n",
    "    - **Parámetros:**\n",
    "        - *x_0:* valor inicial\n",
    "        - *x_1:* siguiente valor de la sucesión de convergencia\n",
    "        - *Tol:* Tolerancia permitida para la aproximación del cero\n",
    "        - *maxItera:* Cantidad máxima de iteraciones\n",
    "        - *funcion:* Función sobre la cual se quiere calcular el cero/raíz\n",
    "    - **Valor de Retorno:**\n",
    "        - *x:* cero/raíz de la función\n",
    "        - *df:* DataFrame de las sucesiones generadas en el método \n",
    "    \"\"\"\n",
    "    \n",
    "    # Evaluar la función en x_0 y x_1\n",
    "    y_0 = funcion(x_0)\n",
    "    y_1 = funcion(x_1)\n",
    "    \n",
    "    # Iniciar el ciclo para calcular los valores de la sucesión de regula falsi de forma recursiva\n",
    "    for n in range(2, maxItera):\n",
    "        \n",
    "        # Calcular el valor de x_n\n",
    "    "
   ]
  }
 ],
 "metadata": {
  "kernelspec": {
   "display_name": "base",
   "language": "python",
   "name": "python3"
  },
  "language_info": {
   "codemirror_mode": {
    "name": "ipython",
    "version": 3
   },
   "file_extension": ".py",
   "mimetype": "text/x-python",
   "name": "python",
   "nbconvert_exporter": "python",
   "pygments_lexer": "ipython3",
   "version": "3.12.7"
  }
 },
 "nbformat": 4,
 "nbformat_minor": 2
}

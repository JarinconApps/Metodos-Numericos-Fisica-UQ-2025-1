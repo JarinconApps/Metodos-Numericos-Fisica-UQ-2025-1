{
 "cells": [
  {
   "cell_type": "markdown",
   "metadata": {},
   "source": [
    "# Método del Punto Fijo\n",
    "\n",
    "Método para calcular la raíz de una función a través del teorema del punto fijo\n",
    "\n",
    "## ***Función:*** PuntoFijo\n",
    "- **Descripción:** Calcula la raíz de una función cerca de un punto inicial\n",
    "- **Parámetros:**\n",
    "    - *funcion:* Función que queremos resolver\n",
    "    - *x_0:* Punto inicial del algoritmo\n",
    "    - *tol:* Valor máximo de convergencia\n",
    "    - *max_iteraciones:* Número máximo de iteraciones del método\n",
    "    - *console:* Valor booleando. Permite imprimir mensajes de prueba en la consola\n",
    "- **Valor de Retorno:** Raíz/Cero de la Función"
   ]
  },
  {
   "cell_type": "code",
   "execution_count": 15,
   "metadata": {},
   "outputs": [],
   "source": [
    "# Importar las librerias necesarias\n",
    "import numpy as np\n",
    "import pandas as pd"
   ]
  },
  {
   "cell_type": "code",
   "execution_count": 16,
   "metadata": {},
   "outputs": [],
   "source": [
    "# Definir el método del punto fijo\n",
    "def PuntoFijo(funcion, x_0, tol, max_iteraciones, console=False):\n",
    "\n",
    "    \"\"\"\n",
    "    ## ***Función***: PuntoFijo\n",
    "    - **Descripción:** Calcula la raíz de una función cerca de un punto inicial\n",
    "    - **Parámetros:**\n",
    "        - *funcion:* Función que queremos resolver\n",
    "        - *x_0:* Punto inicial del algoritmo\n",
    "        - *tol:* Valor máximo de convergencia\n",
    "        - *max_iteraciones:* Número máximo de iteraciones del método\n",
    "        - *console:* Valor booleano. Permite mostrar mensajes de prueba en la consola\n",
    "    - **Valor de Retorno:** Raíz/Cero de la Función\n",
    "    \"\"\"\n",
    "\n",
    "    # Iniciar el valor de las iteraciones en 1\n",
    "    iteraciones = 1\n",
    "\n",
    "    # Definir los arreglos de la raíz y el error\n",
    "    raiz_ = []\n",
    "    error_ = []\n",
    "\n",
    "    # Crear un ciclo condicional que genere las iteraciones desde n=1,...,max_iteraciones\n",
    "    while iteraciones <= max_iteraciones:\n",
    "        # Calculamos el siguiente término de la sucesión\n",
    "        x = funcion(x_0)\n",
    "        raiz_.append(x)\n",
    "        error_.append(np.abs(x - x_0))\n",
    "\n",
    "        # Determinamos si el valor de x_n cumple con la condición de la tolerancia permitida\n",
    "        if np.abs(x - x_0) < tol:\n",
    "            # Devolver el resultado y finalizar la ejecución\n",
    "            if console:\n",
    "                df = pd.DataFrame({\"Raices\": raiz_, \"Errores\": error_})\n",
    "                print(df)\n",
    "            return x\n",
    "        else:\n",
    "            # Incrementamos el valor de la iteración\n",
    "            iteraciones = iteraciones + 1\n",
    "\n",
    "            # Actualizamos el valor de x_0\n",
    "            x_0 = x\n",
    "\n",
    "    # Si el código llega a este punto quiere decir que no alcanco la convergencia\n",
    "    print(\"El método no alcanzo la convergencia deseada\")\n",
    "    return x"
   ]
  },
  {
   "cell_type": "markdown",
   "metadata": {},
   "source": [
    "### Pruebas\n",
    "\n",
    "Probar el método de la bisección.\n",
    "\n",
    "### Ejemplo\n",
    "\n",
    "Usar el método del punto fijo para calcular el cero de la función $f\\left(x\\right)=x^{3}-x+1$ en el intervalo donde $x\\in\\left[-2,-1\\right]$"
   ]
  },
  {
   "cell_type": "code",
   "execution_count": 17,
   "metadata": {},
   "outputs": [
    {
     "name": "stdout",
     "output_type": "stream",
     "text": [
      "     Raices   Errores\n",
      "0 -1.259921  0.259921\n",
      "1 -1.312294  0.052373\n",
      "2 -1.322354  0.010060\n",
      "3 -1.324269  0.001915\n",
      "4 -1.324633  0.000364\n",
      "5 -1.324702  0.000069\n",
      "6 -1.324715  0.000013\n",
      "7 -1.324717  0.000002\n",
      "Raíz/Cero:  -1.324717372435671\n"
     ]
    }
   ],
   "source": [
    "# Definir la función g(x)\n",
    "def g(x):\n",
    "    return np.cbrt(x-1)\n",
    "\n",
    "x = PuntoFijo(g, -1, 1e-5, 20, console=True)\n",
    "print(\"Raíz/Cero: \", x)"
   ]
  }
 ],
 "metadata": {
  "kernelspec": {
   "display_name": "base",
   "language": "python",
   "name": "python3"
  },
  "language_info": {
   "codemirror_mode": {
    "name": "ipython",
    "version": 3
   },
   "file_extension": ".py",
   "mimetype": "text/x-python",
   "name": "python",
   "nbconvert_exporter": "python",
   "pygments_lexer": "ipython3",
   "version": "3.12.7"
  }
 },
 "nbformat": 4,
 "nbformat_minor": 2
}

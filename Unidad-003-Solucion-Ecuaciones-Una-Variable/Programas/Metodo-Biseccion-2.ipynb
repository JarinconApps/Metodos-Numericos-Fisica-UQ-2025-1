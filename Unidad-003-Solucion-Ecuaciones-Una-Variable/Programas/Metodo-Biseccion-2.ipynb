{
 "cells": [
  {
   "cell_type": "markdown",
   "metadata": {},
   "source": [
    "# Método de la Bisección - Forma 2\n",
    "\n",
    "Método para calcular la raíz o cero de una función en un intervalo dado.\n",
    "\n",
    "## ***Función:*** Biseccion\n",
    "- **Descripción:** Calcula la raíz o cero de la función $f$ en el intervalo dado $[a,b]$ con una tolerancia dada.\n",
    "- **Parámetros:**\n",
    "    - *funcion:* Función a la cual se le quiere calcular la raíz o cero\n",
    "    - *a:* inicio del intervalo de evaluación\n",
    "    - *b:* fin del intervalo de evaluación\n",
    "    - *tol:* Máximo error permitido entre la aproximación de la raíz y el valor real.\n",
    "    - *console:* Valor booleano que permite (si True) mostrar los mensajes de procesamiento de la función"
   ]
  },
  {
   "cell_type": "code",
   "execution_count": 1,
   "metadata": {},
   "outputs": [],
   "source": [
    "# Importar las librerias necesarias\n",
    "import numpy as np"
   ]
  },
  {
   "cell_type": "code",
   "execution_count": 4,
   "metadata": {},
   "outputs": [],
   "source": [
    "# Definir la función Biseccion\n",
    "def Biseccion(funcion, a, b, tol, console=False):\n",
    "    \n",
    "    \"\"\"\n",
    "    ## ***Función:*** Biseccion\n",
    "    - **Descripción:** Calcula la raíz o cero de la función $f$ en el intervalo dado $[a,b]$ con una tolerancia dada.\n",
    "    - **Parámetros:**\n",
    "        - *funcion:* Función a la cual se le quiere calcular la raíz o cero\n",
    "        - *a:* inicio del intervalo de evaluación\n",
    "        - *b:* fin del intervalo de evaluación\n",
    "        - *tol:* Máximo error permitido entre la aproximación de la raíz y el valor real.\n",
    "        - *console:* Valor booleano que permite (si True) mostrar los mensajes de procesamiento de la función\n",
    "    \"\"\"\n",
    "    \n",
    "    # Calculamos el valor x0 (inicial)\n",
    "    x = (a + b) / 2\n",
    "    \n",
    "    # Definimos el siguiente valor de la sucesión. Agregando un 1 nos aseguramos que entre en el ciclo while\n",
    "    y = x + 1\n",
    "    \n",
    "    # Crear el ciclo condicional para calcular los intervalos. Mientras el punto medio del intervalo \n",
    "    # no cumpla con la condición de cero aproximadoo\n",
    "    while abs(x - y) >= tol:\n",
    "\n",
    "        # Calculamos el punto medio\n",
    "        x = (a + b ) / 2\n",
    "        \n",
    "        # Determinar el comportamiento de la función\n",
    "        if funcion(a)*funcion(x) < 0:\n",
    "            # Se define el nuevo b como x\n",
    "            b = x\n",
    "        else:\n",
    "            # Se define el nuevo a como x\n",
    "            a = x\n",
    "            \n",
    "        # Calcular el nuevo valor de y\n",
    "        y = (a + b) / 2\n",
    "        \n",
    "        if console:\n",
    "            print(\"x = \", x, \"; y = \", y)\n",
    "        \n",
    "    # Damos como valor aproximado del cero el último valor de x hallado\n",
    "    return x"
   ]
  },
  {
   "cell_type": "markdown",
   "metadata": {},
   "source": [
    "### Pruebas\n",
    "Probar la función de bisección para calcular la raíz de la función $f(x) = \\sin(x) + \\cos(x)$ en el intervalo para $x\\in[1,4]$"
   ]
  },
  {
   "cell_type": "code",
   "execution_count": 5,
   "metadata": {},
   "outputs": [
    {
     "name": "stdout",
     "output_type": "stream",
     "text": [
      "x =  2.5 ; y =  1.75\n",
      "x =  1.75 ; y =  2.125\n",
      "x =  2.125 ; y =  2.3125\n",
      "x =  2.3125 ; y =  2.40625\n",
      "x =  2.40625 ; y =  2.359375\n",
      "x =  2.359375 ; y =  2.3359375\n",
      "x =  2.3359375 ; y =  2.34765625\n",
      "x =  2.34765625 ; y =  2.353515625\n",
      "x =  2.353515625 ; y =  2.3564453125\n",
      "x =  2.3564453125 ; y =  2.35498046875\n",
      "x =  2.35498046875 ; y =  2.355712890625\n",
      "Raíz:  2.35498046875\n"
     ]
    }
   ],
   "source": [
    "# Probar la función\n",
    "def f(x):\n",
    "    return np.sin(x) + np.cos(x)\n",
    "\n",
    "x = Biseccion(f, 1, 4, 1e-3, console=True)\n",
    "print(\"Raíz: \",x)"
   ]
  }
 ],
 "metadata": {
  "kernelspec": {
   "display_name": "base",
   "language": "python",
   "name": "python3"
  },
  "language_info": {
   "codemirror_mode": {
    "name": "ipython",
    "version": 3
   },
   "file_extension": ".py",
   "mimetype": "text/x-python",
   "name": "python",
   "nbconvert_exporter": "python",
   "pygments_lexer": "ipython3",
   "version": "3.12.7"
  }
 },
 "nbformat": 4,
 "nbformat_minor": 2
}

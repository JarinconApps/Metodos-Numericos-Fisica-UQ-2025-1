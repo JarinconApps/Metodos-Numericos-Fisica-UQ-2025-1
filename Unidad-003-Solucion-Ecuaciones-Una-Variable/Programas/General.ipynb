{
 "cells": [
  {
   "cell_type": "code",
   "execution_count": 13,
   "metadata": {},
   "outputs": [
    {
     "name": "stdout",
     "output_type": "stream",
     "text": [
      "-0.5919214228720328\n",
      "0.06407337517645312\n",
      "1.5372017025381755\n",
      "9.999999999998899e-05\n"
     ]
    }
   ],
   "source": [
    "import numpy as np\n",
    "\n",
    "def f(x):\n",
    "    return  np.exp(-x)-0.5*np.log(x)\n",
    "\n",
    "def df_dx(x):\n",
    "    return -np.exp(-x)-1/(2*x)\n",
    "\n",
    "print(df_dx(1.4239))\n",
    "\n",
    "print(f(1.4239))\n",
    "\n",
    "x2 = 1.5371916143491866\n",
    "m = df_dx(x2)\n",
    "y1 = f(x2)\n",
    "\n",
    "x = (m*x2-y1) / m\n",
    "print(x)\n",
    "\n",
    "x4 = 1.5372\n",
    "x3 = 1.5371\n",
    "\n",
    "d = abs(x4-x3)\n",
    "print(d)\n"
   ]
  }
 ],
 "metadata": {
  "kernelspec": {
   "display_name": "base",
   "language": "python",
   "name": "python3"
  },
  "language_info": {
   "codemirror_mode": {
    "name": "ipython",
    "version": 3
   },
   "file_extension": ".py",
   "mimetype": "text/x-python",
   "name": "python",
   "nbconvert_exporter": "python",
   "pygments_lexer": "ipython3",
   "version": "3.12.7"
  }
 },
 "nbformat": 4,
 "nbformat_minor": 2
}

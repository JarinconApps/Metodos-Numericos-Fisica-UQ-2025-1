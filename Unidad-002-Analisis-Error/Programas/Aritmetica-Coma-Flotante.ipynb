{
 "cells": [
  {
   "cell_type": "markdown",
   "metadata": {},
   "source": [
    "# Ejercicio\n",
    "Crear un *programa* en **Python** para calcular la **suma** y el **producto** de dos números usando los redondeos a $k$ cifras significativas."
   ]
  },
  {
   "cell_type": "code",
   "execution_count": 41,
   "metadata": {},
   "outputs": [],
   "source": [
    "# Importar las librerias necesarias\n",
    "from decimal import Decimal"
   ]
  },
  {
   "cell_type": "code",
   "execution_count": 42,
   "metadata": {},
   "outputs": [],
   "source": [
    "# Definir la función comaFlotante\n",
    "def comaFlotante(numero, cifras, console=False):\n",
    "\n",
    "    \"\"\"\n",
    "    ## Función: comaFlotante\n",
    "    - **Descripción:** Convierte un número a coma flotante y lo redondea a $n$ cifras significativas\n",
    "    - **Parámetros:**\n",
    "        - *numero:* Número a convertir a coma flotante\n",
    "        - *cifras:* Cantidad de cifras a tener en cuenta en el redondeo\n",
    "        - *console: *Valor boolean que determina si se muestran mensajes de prueba en la consola\n",
    "    - **Valor de Retorno:** Número Redondeado en Coma Flotante\n",
    "    \"\"\"\n",
    "\n",
    "    # Convertir el número a tipo Decimal\n",
    "    numero = Decimal(numero)\n",
    "    if console:\n",
    "        print(\"Formato Decimal: \", numero)\n",
    "\n",
    "    # Obtener la parte entera del número\n",
    "    pInt = int(numero)\n",
    "    if console:\n",
    "        print(\"Parte Entera: \", pInt)\n",
    "\n",
    "    # Obtener la parte decimal\n",
    "    pDec = Decimal(abs(numero - pInt))\n",
    "    if console:\n",
    "        print(\"Parte Decimal: \", pDec)\n",
    "\n",
    "    if abs(pInt)>0:\n",
    "\n",
    "        # Determinar cuántas cifras tiene la parte entera\n",
    "        exponente = 0\n",
    "        nComaFlotante = Decimal(pInt)\n",
    "        while abs(nComaFlotante) >= 1:\n",
    "            nComaFlotante = nComaFlotante / 10\n",
    "            exponente = exponente + 1\n",
    "        if console:\n",
    "            print(\"Exponente Parte Entera: \", exponente)\n",
    "\n",
    "        # Representar el número en coma flotante\n",
    "        nComaFlotante = nComaFlotante + pDec / Decimal((10**exponente))\n",
    "        if console:\n",
    "            print(\"Número en Coma Flotante: \", nComaFlotante)\n",
    "            print(\"Exponente: \", exponente)\n",
    "\n",
    "        # Redondear el número con las cifras significativas del parámetro\n",
    "        nComaFlotante = round(nComaFlotante, cifras)\n",
    "        if console:\n",
    "            print(\"Número Redondeado: \", nComaFlotante)\n",
    "            print(\"__________________________________\")\n",
    "\n",
    "        # Devolver el número en formato string\n",
    "        return Decimal(str(nComaFlotante) + \"e\" + str(exponente))\n",
    "    else:\n",
    "\n",
    "        # Determinar cuántas ceros tiene la parte decimal antes del primer número diferente de cero\n",
    "        exponente = 0\n",
    "        nComaFlotante = Decimal(pDec)\n",
    "        while abs(nComaFlotante)<0.1:\n",
    "            nComaFlotante = nComaFlotante * 10\n",
    "            exponente = exponente + 1\n",
    "        if console:\n",
    "            print(\"Número en Coma Flotante: \", nComaFlotante)\n",
    "            print(\"Exponente: \", -1*exponente)\n",
    "\n",
    "        # Redondear el número con las cifras significativas del parámetro\n",
    "        nComaFlotante = round(nComaFlotante, cifras)\n",
    "        if console:\n",
    "            print(\"Número Redondeado: \", nComaFlotante)\n",
    "            print(\"__________________________________\")\n",
    "\n",
    "        # Devolver el número en formato string\n",
    "        return Decimal(str(nComaFlotante) + \"e\" + str(-exponente))\n",
    "    \n",
    "# Probar la función\n",
    "# print(comaFlotante(0.00000123456789, 4, console=True))"
   ]
  },
  {
   "cell_type": "markdown",
   "metadata": {},
   "source": [
    "## ***Función:*** sumaFlotante\n",
    "- **Descripción:** Calcula la suma flotante a $k$ cifras significativas de dos números. Estos números internamente primero se redondean a $k$ cifras significativas, se suman y el resultado de la suma, se le aplica de nuevo el redondeo de coma flotante a $k$ cifras significativas.\n",
    "- **Parámetros:**\n",
    "    - *numA:* Sumando 1\n",
    "    - *numB:* Sumando 2\n",
    "    - *cifras:* Cantidad de cifras significativas para el cálculo\n",
    "    - *console:* Valor booleando que determina si se muestran mensaje en la consola\n",
    "- **Valor de Retorno:** Suma de los valores numA y numB aplicando el redondeo de la coma flotante"
   ]
  },
  {
   "cell_type": "code",
   "execution_count": 43,
   "metadata": {},
   "outputs": [],
   "source": [
    "# Definir la función sumaFlotante\n",
    "def sumaFlotante(numA, numB, cifras, console=False):\n",
    "\n",
    "    \"\"\"\n",
    "    ## Función: sumaFlotante\n",
    "    - **Descripción:** Calcula la suma flotante a $k$ cifras significativas de dos números. Estos números internamente primero se redondean a $k$ cifras significativas, se suman y el resultado de la suma, se le aplica de nuevo el redondeo de coma flotante a $k$ cifras significativas.\n",
    "    - **Parámetros:**\n",
    "        - *numA:* Sumando 1\n",
    "        - *numB:* Sumando 2\n",
    "        - *cifras:* Cantidad de cifras significativas para el cálculo\n",
    "        - *console:* Valor booleando que determina si se muestran mensaje en la consola\n",
    "    - **Valor de Retorno:** Suma de los valores numA y numB aplicando el redondeo de la coma flotante\n",
    "    \"\"\"\n",
    "    \n",
    "    # Redondear cada número a las cifras indicadas\n",
    "    numA = comaFlotante(numA, cifras)\n",
    "    numB = comaFlotante(numB, cifras)\n",
    "    if console:\n",
    "        print(\"numA toComaFlotante: \", numA)\n",
    "        print(\"numB toComaFlotante: \", numB)\n",
    "\n",
    "    # Sumar los valores\n",
    "    rSuma = numA + numB\n",
    "    if console:\n",
    "        print(\"Suma antes de la Coma Flotante: \", rSuma)\n",
    "\n",
    "    # Aplicar de nuevo la coma flotante\n",
    "    rSuma = comaFlotante(rSuma, cifras)\n",
    "    if console:\n",
    "        print(\"Suma después de la Coma Flotante: \", rSuma)\n",
    "\n",
    "    # Devolver el valor de la suma\n",
    "    return rSuma\n",
    "\n",
    "# Probar la Función\n",
    "# print(suma(1/3, 345/7, 4, console=True))"
   ]
  },
  {
   "cell_type": "markdown",
   "metadata": {},
   "source": [
    "### Pruebas\n",
    "Probar la función sumaFlotante con los números $\\frac{1}{3}$ y $\\frac{345}{7}$"
   ]
  },
  {
   "cell_type": "code",
   "execution_count": 44,
   "metadata": {},
   "outputs": [
    {
     "name": "stdout",
     "output_type": "stream",
     "text": [
      "suma:  49.62\n"
     ]
    }
   ],
   "source": [
    "# Probar la Función de Suma\n",
    "numA = 1/3\n",
    "numB = 345/7\n",
    "producto = sumaFlotante(numA, numB, 4)\n",
    "print(\"suma: \", producto)"
   ]
  },
  {
   "cell_type": "markdown",
   "metadata": {},
   "source": [
    "## ***Función:*** productoFlotante\n",
    "- **Descripción:** Calcula el producto flotante a $k$ cifras significativas de dos números. Estos números internamente primero se redondean a $k$ cifras significativas, se multiplican y el resultado del producto, se le aplica de nuevo el redondeo de coma flotante a $k$ cifras significativas.\n",
    "- **Parámetros:**\n",
    "    - *numA:* Factor 1\n",
    "    - *numB:* Factor 2\n",
    "    - *cifras:* Cantidad de cifras significativas para el cálculo\n",
    "    - *console:* Valor booleando que determina si se muestran mensaje en la consola\n",
    "- **Valor de Retorno:** Producto de los valores numA y numB aplicando el redondeo de la coma flotante"
   ]
  },
  {
   "cell_type": "code",
   "execution_count": 45,
   "metadata": {},
   "outputs": [],
   "source": [
    "def productoFlotante(numA, numB, cifras, console=False):\n",
    "\n",
    "    \"\"\"\n",
    "    ## ***Función:*** productoFlotante\n",
    "    - **Descripción:** Calcula el producto flotante a $k$ cifras significativas de dos números. Estos números internamente primero se redondean a $k$ cifras significativas, se multiplican y el resultado del producto, se le aplica de nuevo el redondeo de coma flotante a $k$ cifras significativas.\n",
    "    - **Parámetros:**\n",
    "        - *numA:* Factor 1\n",
    "        - *numB:* Factor 2\n",
    "        - *cifras:* Cantidad de cifras significativas para el cálculo\n",
    "        - *console:* Valor booleando que determina si se muestran mensaje en la consola\n",
    "    - **Valor de Retorno:** Producto de los valores numA y numB aplicando el redondeo de la coma flotante\n",
    "    \"\"\"\n",
    "    \n",
    "    # Redondear cada número a las cifras indicadas\n",
    "    numA = comaFlotante(numA, cifras)\n",
    "    numB = comaFlotante(numB, cifras)\n",
    "    if console:\n",
    "        print(\"numA toComaFlotante: \", numA)\n",
    "        print(\"numB toComaFlotante: \", numB)\n",
    "\n",
    "    # Sumar los valores\n",
    "    rProducto = numA * numB\n",
    "    if console:\n",
    "        print(\"Producto antes de la Coma Flotante: \", rProducto)\n",
    "\n",
    "    # Aplicar de nuevo la coma flotante\n",
    "    rProducto = comaFlotante(rProducto, cifras)\n",
    "    if console:\n",
    "        print(\"Producto después de la Coma Flotante: \", rProducto)\n",
    "\n",
    "    # Devolver el valor del producto\n",
    "    return rProducto\n",
    "\n",
    "# Probar la Función\n",
    "# print(productoFlotante(1/3, 345/7, 4, console=True))"
   ]
  },
  {
   "cell_type": "markdown",
   "metadata": {},
   "source": [
    "### Pruebas\n",
    "Probar la función productoFlotante con los números $\\frac{1}{3}$ y $\\frac{345}{7}$"
   ]
  },
  {
   "cell_type": "code",
   "execution_count": 46,
   "metadata": {},
   "outputs": [
    {
     "name": "stdout",
     "output_type": "stream",
     "text": [
      "producto:  16.43\n"
     ]
    }
   ],
   "source": [
    "# Probar la Función de Suma\n",
    "numA = 1/3\n",
    "numB = 345/7\n",
    "producto = productoFlotante(numA, numB, 4)\n",
    "print(\"producto: \", producto)"
   ]
  },
  {
   "cell_type": "markdown",
   "metadata": {},
   "source": [
    "## Error Absoluto y Relativo\n",
    "Calcular el error absoluto y relativo a las operaciones de sumaFlotante y productoFlotante dados los números $\\frac{1}{3}$ y $\\frac{345}{7}$"
   ]
  },
  {
   "cell_type": "code",
   "execution_count": 47,
   "metadata": {},
   "outputs": [
    {
     "name": "stdout",
     "output_type": "stream",
     "text": [
      "Suma sin coma flotante:  49.619047619047620401033782400190830230712890625\n",
      "Producto sin coma flotante:  16.428571428571427048836994799785315990447998046875\n",
      "Suma con coma flotante:  49.62\n",
      "Producto con coma flotante:  16.43\n",
      "ea(suma):  0.0009523809523795989662175998092\n",
      "ea(producto):  0.001428571428572951163005200215\n",
      "er(suma):  0.00001919385796542377902595714208\n",
      "er(producto):  0.00008695652173922312232896760206\n",
      "True\n",
      "True\n"
     ]
    }
   ],
   "source": [
    "# Define los valores numéricos\n",
    "numA = 1/3\n",
    "numB = 345/7\n",
    "\n",
    "# Calcula la suma y producto sin coma flotante\n",
    "suma_ = Decimal(numA + numB)\n",
    "producto_ = Decimal(numA * numB)\n",
    "\n",
    "# Muestra los resultados\n",
    "print(\"Suma sin coma flotante: \", suma_)\n",
    "print(\"Producto sin coma flotante: \", producto_)\n",
    "\n",
    "# Calcula la suma y producto con coma flotante\n",
    "suma = sumaFlotante(numA, numB, 4)\n",
    "producto = productoFlotante(numA, numB, 4)\n",
    "\n",
    "# Muestra los resultados\n",
    "print(\"Suma con coma flotante: \", suma)\n",
    "print(\"Producto con coma flotante: \", producto)\n",
    "\n",
    "# Calcular el error absoluto y relativo\n",
    "eaSuma = abs(suma_ - suma)\n",
    "eaProducto = abs(producto_ - producto)\n",
    "\n",
    "# Mostrar los errors absolutos\n",
    "print(\"ea(suma): \", eaSuma)\n",
    "print(\"ea(producto): \", eaProducto)\n",
    "\n",
    "# Calcular el error relativo\n",
    "erSuma = eaSuma / abs(suma_)\n",
    "erProducto = eaProducto / abs(producto_)\n",
    "\n",
    "# Mostrar los errores relativos\n",
    "print(\"er(suma): \", erSuma)\n",
    "print(\"er(producto): \", erProducto)\n",
    "\n",
    "# Comprobar el Teorema\n",
    "print(0.00001919385796542377902595714208 < 5e-4)\n",
    "print(0.00008695652173922312232896760206 < 5e-4)"
   ]
  }
 ],
 "metadata": {
  "kernelspec": {
   "display_name": "base",
   "language": "python",
   "name": "python3"
  },
  "language_info": {
   "codemirror_mode": {
    "name": "ipython",
    "version": 3
   },
   "file_extension": ".py",
   "mimetype": "text/x-python",
   "name": "python",
   "nbconvert_exporter": "python",
   "pygments_lexer": "ipython3",
   "version": "3.12.7"
  }
 },
 "nbformat": 4,
 "nbformat_minor": 2
}

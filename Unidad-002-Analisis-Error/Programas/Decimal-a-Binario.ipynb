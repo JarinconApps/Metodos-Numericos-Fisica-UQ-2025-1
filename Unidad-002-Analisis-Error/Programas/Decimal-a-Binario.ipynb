{
 "cells": [
  {
   "cell_type": "markdown",
   "metadata": {},
   "source": [
    "# Ejercicio \n",
    "Construir un *programa* en **Python** que dado un número en base decimal lo convierta en base dos (binaria). "
   ]
  },
  {
   "cell_type": "code",
   "execution_count": 1,
   "metadata": {},
   "outputs": [],
   "source": [
    "# Importas las librerias necesarias\n",
    "import string\n",
    "import math"
   ]
  },
  {
   "cell_type": "markdown",
   "metadata": {},
   "source": [
    "## ***Función:*** FloatToBin\n",
    "- **Descripción:** Esta función recibe como parámetro un número decimal y lo convierte a un número binario\n",
    "- **Parámetros:** \n",
    "    - *numeroDecimal:* Número real\n",
    "    - *console:* Valor booleano que indica si se muestran mensaje de ayuda en la consola\n",
    "- **Retorno:** Representación binaria del número decimal ingresado"
   ]
  },
  {
   "cell_type": "code",
   "execution_count": null,
   "metadata": {},
   "outputs": [],
   "source": [
    "def FloatToBin(numeroDecimal, console=False):\n",
    "  \n",
    "  \"\"\"\n",
    "  ## *Función:* FloatToBin\n",
    "  - **Descripción:** Esta función recibe como parámetro un número decimal y lo convierte a un número binario\n",
    "  - **Parámetros:** \n",
    "    - *numeroDecimal:* Número real\n",
    "    - *console:* Valor booleano que indica si se muestran mensaje de ayuda en la consola\n",
    "  - **Retorno:** Representación binaria del número decimal ingresado\n",
    "  \"\"\"\n",
    "\n",
    "  # Obtener la parte entera y la parte decimal\n",
    "  pInt = int(numeroDecimal)\n",
    "  pDec = numeroDecimal - pInt\n",
    "\n",
    "  if console:\n",
    "    print(\"Parte Entera: \", pInt)\n",
    "    print(\"Parte Decimal: \", pDec)\n",
    "\n",
    "  # Obtener la representación binaria de la parte entera\n",
    "  numBinInt = \"\"\n",
    "  while pInt > 0:\n",
    "\n",
    "    # Obtiene el residuo de la división entre 2\n",
    "    residuo = pInt % 2\n",
    "\n",
    "    # Crear la representación binaria\n",
    "    numBinInt = str(residuo) + numBinInt\n",
    "\n",
    "    # División entera para obtener el siguiente cociente\n",
    "    pInt = pInt // 2\n",
    "\n",
    "  # Obtener la representación binaria de la parte decimal\n",
    "  numBinDec = \"\"\n",
    "  while pDec != 0.0:\n",
    "\n",
    "    # Multiplica el decimal por 2\n",
    "    pDec = 2 * pDec\n",
    "\n",
    "    # Determinar el valor de la parte entera\n",
    "    b = int(pDec)\n",
    "\n",
    "    # Crear la representación decimal\n",
    "    numBinDec = numBinDec + str(b)\n",
    "\n",
    "    # Actualizar el valor de pDec\n",
    "    pDec = pDec - b\n",
    "\n",
    "  # Devolver la conversión del número ingresado\n",
    "  if numeroDecimal < 0:\n",
    "    return \"-\" + numBinInt + \".\" + numBinDec + \"(2)\"\n",
    "  if numeroDecimal > 0:\n",
    "    return numBinInt + \".\" + numBinDec + \"(2)\""
   ]
  },
  {
   "cell_type": "markdown",
   "metadata": {},
   "source": [
    "### Pruebas\n",
    "Verificar el uso de la función al convertir los siguientes valores: 10.2345, 1989.0820, 1996.0114 a número binario"
   ]
  },
  {
   "cell_type": "code",
   "execution_count": 16,
   "metadata": {},
   "outputs": [
    {
     "name": "stdout",
     "output_type": "stream",
     "text": [
      "10.2345  toBin:  1010.001111000000100000110001001001101110100101111001(2)\n",
      "1989.082  toBin:  11111000101.000101001111110111110011101101100100010111(2)\n",
      "1996.0114  toBin:  11111001100.000000101110101100011100010000110010110011(2)\n"
     ]
    }
   ],
   "source": [
    "# Prueba de la función\n",
    "numDec = [10.2345, 1989.0820, 1996.0114]\n",
    "\n",
    "for n in range(len(numDec)):\n",
    "    numBin = FloatToBin(numDec[n])\n",
    "    print(numDec[n], \" toBin: \", numBin)"
   ]
  }
 ],
 "metadata": {
  "kernelspec": {
   "display_name": "base",
   "language": "python",
   "name": "python3"
  },
  "language_info": {
   "codemirror_mode": {
    "name": "ipython",
    "version": 3
   },
   "file_extension": ".py",
   "mimetype": "text/x-python",
   "name": "python",
   "nbconvert_exporter": "python",
   "pygments_lexer": "ipython3",
   "version": "3.12.7"
  }
 },
 "nbformat": 4,
 "nbformat_minor": 2
}

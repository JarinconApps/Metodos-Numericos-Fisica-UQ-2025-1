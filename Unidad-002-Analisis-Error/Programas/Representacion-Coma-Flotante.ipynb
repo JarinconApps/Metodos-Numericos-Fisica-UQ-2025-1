{
 "cells": [
  {
   "cell_type": "markdown",
   "metadata": {},
   "source": [
    "# Ejercicio\n",
    "Crear un programa en Python que permita representar un número real en formato de coma flotante a través del método del redondeo con $4$ cifras significativas."
   ]
  },
  {
   "cell_type": "code",
   "execution_count": 22,
   "metadata": {},
   "outputs": [],
   "source": [
    "# Importar las librerias necesarias\n",
    "import math\n",
    "from decimal import Decimal"
   ]
  },
  {
   "cell_type": "markdown",
   "metadata": {},
   "source": [
    "## Función: comaFlotante\n",
    "- **Descripción:** Convierte un número a coma flotante y lo redondea a $n$ cifras significativas\n",
    "- **Parámetros:**\n",
    "    - *numero:* Número a convertir a coma flotante\n",
    "    - *cifras:* Cantidad de cifras a tener en cuenta en el redondeo\n",
    "    - *console: *Valor boolean que determina si se muestran mensajes de prueba en la consola\n",
    "- **Valor de Retorno:** String que contiene el número transformado en coma flotante"
   ]
  },
  {
   "cell_type": "code",
   "execution_count": 72,
   "metadata": {},
   "outputs": [],
   "source": [
    "# Definir la función comaFlotante\n",
    "def comaFlotante(numero, cifras, console=False):\n",
    "\n",
    "    \"\"\"\n",
    "    ## Función: comaFlotante\n",
    "    - **Descripción:** Convierte un número a coma flotante y lo redondea a $n$ cifras significativas\n",
    "    - **Parámetros:**\n",
    "        - *numero:* Número a convertir a coma flotante\n",
    "        - *cifras:* Cantidad de cifras a tener en cuenta en el redondeo\n",
    "        - *console: *Valor boolean que determina si se muestran mensajes de prueba en la consola\n",
    "    - **Valor de Retorno:** String que contiene el número transformado en coma flotante\n",
    "    \"\"\"\n",
    "\n",
    "    # Convertir el número a tipo Decimal\n",
    "    numero = Decimal(numero)\n",
    "    if console:\n",
    "        print(\"Formato Decimal: \", numero)\n",
    "\n",
    "    # Obtener la parte entera del número\n",
    "    pInt = int(numero)\n",
    "    if console:\n",
    "        print(\"Parte Entera: \", pInt)\n",
    "\n",
    "    # Obtener la parte decimal\n",
    "    pDec = Decimal(abs(numero - pInt))\n",
    "    if console:\n",
    "        print(\"Parte Decimal: \", pDec)\n",
    "\n",
    "    if abs(pInt)>0:\n",
    "\n",
    "        # Determinar cuántas cifras tiene la parte entera\n",
    "        exponente = 0\n",
    "        nComaFlotante = Decimal(pInt)\n",
    "        while abs(nComaFlotante) >= 1:\n",
    "            nComaFlotante = nComaFlotante / 10\n",
    "            exponente = exponente + 1\n",
    "        if console:\n",
    "            print(\"Exponente Parte Entera: \", exponente)\n",
    "\n",
    "        # Representar el número en coma flotante\n",
    "        nComaFlotante = nComaFlotante + pDec / Decimal((10**exponente))\n",
    "        if console:\n",
    "            print(\"Número en Coma Flotante: \", nComaFlotante)\n",
    "\n",
    "        # Redondear el número con las cifras significativas del parámetro\n",
    "        nComaFlotante = round(nComaFlotante, cifras)\n",
    "        if console:\n",
    "            print(\"Número Redondeado: \", nComaFlotante)\n",
    "            print(\"__________________________________\")\n",
    "\n",
    "        # Devolver el número en formato string\n",
    "        return str(nComaFlotante) + \"e\" + str(exponente)\n",
    "    else:\n",
    "\n",
    "        # Determinar cuántas ceros tiene la parte decimal antes del primer número diferente de cero\n",
    "        exponente = 0\n",
    "        nComaFlotante = Decimal(pDec)\n",
    "        while abs(nComaFlotante)<0.1:\n",
    "            nComaFlotante = nComaFlotante * 10\n",
    "            exponente = exponente + 1\n",
    "        if console:\n",
    "            print(\"Número en Coma Flotante: \", nComaFlotante)\n",
    "\n",
    "        # Redondear el número con las cifras significativas del parámetro\n",
    "        nComaFlotante = round(nComaFlotante, cifras)\n",
    "        if console:\n",
    "            print(\"Número Redondeado: \", nComaFlotante)\n",
    "            print(\"__________________________________\")\n",
    "\n",
    "        # Devolver el número en formato string\n",
    "        return str(nComaFlotante) + \"e\" + str(-exponente)"
   ]
  },
  {
   "cell_type": "markdown",
   "metadata": {},
   "source": [
    "### Prueba\n",
    "Probar la función con algunos valores"
   ]
  },
  {
   "cell_type": "code",
   "execution_count": 73,
   "metadata": {},
   "outputs": [
    {
     "name": "stdout",
     "output_type": "stream",
     "text": [
      "1234.5678  toComaFlotante:  0.12346e4\n",
      "-4.599881234e-05  toComaFlotante:  0.45999e-4\n",
      "3.141592654  toComaFlotante:  0.31416e1\n",
      "2.7182818  toComaFlotante:  0.27183e1\n",
      "1.61803398  toComaFlotante:  0.16180e1\n",
      "9488.531016  toComaFlotante:  0.94885e4\n",
      "-1.989082e-07  toComaFlotante:  0.19891e-6\n"
     ]
    }
   ],
   "source": [
    "# Probar la función\n",
    "valores = [1234.5678, -0.00004599881234, 3.141592654, 2.7182818, 1.61803398, 9488.531016, -0.0000001989082]\n",
    "for valor in valores:\n",
    "    nComaFlotante = comaFlotante(valor, 5)\n",
    "    print(valor, \" toComaFlotante: \", nComaFlotante)"
   ]
  }
 ],
 "metadata": {
  "kernelspec": {
   "display_name": "base",
   "language": "python",
   "name": "python3"
  },
  "language_info": {
   "codemirror_mode": {
    "name": "ipython",
    "version": 3
   },
   "file_extension": ".py",
   "mimetype": "text/x-python",
   "name": "python",
   "nbconvert_exporter": "python",
   "pygments_lexer": "ipython3",
   "version": "3.12.7"
  }
 },
 "nbformat": 4,
 "nbformat_minor": 2
}

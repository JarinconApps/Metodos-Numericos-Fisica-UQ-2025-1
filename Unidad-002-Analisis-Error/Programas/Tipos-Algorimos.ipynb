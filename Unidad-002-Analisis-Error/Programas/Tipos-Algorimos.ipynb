{
 "cells": [
  {
   "cell_type": "markdown",
   "metadata": {},
   "source": [
    "# Ejercicio\n",
    "\n",
    "Crear un *programa* en **Python** que calcule los valores de la integral para los primeros $20$ valores de $n$ usando al **recurrencia**"
   ]
  },
  {
   "cell_type": "code",
   "execution_count": 2,
   "metadata": {},
   "outputs": [],
   "source": [
    "# Importar las librerias necesarias\n",
    "import math"
   ]
  },
  {
   "cell_type": "code",
   "execution_count": null,
   "metadata": {},
   "outputs": [
    {
     "name": "stdout",
     "output_type": "stream",
     "text": [
      "Integral para n= 0 ; In =  0.6366197723675814\n",
      "Integral para n= 1 ; In =  0.1893037484509927\n",
      "Integral para n= 2 ; In =  0.08814412785195933\n",
      "Integral para n= 3 ; In =  0.050383865231328595\n",
      "Integral para n= 4 ; In =  0.032432525927793165\n",
      "Integral para n= 5 ; In =  0.022560713787457498\n",
      "Integral para n= 6 ; In =  0.016573960515311903\n",
      "Integral para n= 7 ; In =  0.012678506120186062\n",
      "Integral para n= 8 ; In =  0.01000558692446063\n",
      "Integral para n= 9 ; In =  0.00809384565566007\n",
      "Integral para n= 10 ; In =  0.006680237804839395\n",
      "Integral para n= 11 ; In =  0.005605370337628368\n",
      "Integral para n= 12 ; In =  0.004805484119880132\n",
      "Integral para n= 13 ; In =  0.0018266158333273275\n",
      "Integral para n= 14 ; In =  0.1783932781946153\n",
      "Integral para n= 15 ; In =  -15.406955861264494\n",
      "Integral para n= 16 ; In =  1548.8809060412475\n",
      "Integral para n= 17 ; In =  -176080.13091120572\n",
      "Integral para n= 18 ; In =  22479215.890884537\n",
      "Integral para n= 19 ; In =  -3202334790.232684\n",
      "Integral para n= 20 ; In =  506164388130.3627\n",
      "Integral para n= 21 ; In =  -88313071217350.61\n",
      "Integral para n= 22 ; In =  1.6929587443726212e+16\n",
      "Integral para n= 23 ; In =  -3.550724485435835e+18\n",
      "Integral para n= 24 ; In =  8.116266988633395e+20\n",
      "Integral para n= 25 ; In =  -2.0147569562116416e+23\n",
      "Integral para n= 26 ; In =  5.413728079398527e+25\n",
      "Integral para n= 27 ; In =  -1.5698795142719625e+28\n",
      "Integral para n= 28 ; In =  4.899111157306322e+30\n",
      "Integral para n= 29 ; In =  -1.6410446485845993e+33\n"
     ]
    }
   ],
   "source": [
    "# Obtener un valor de PI\n",
    "PI = math.pi\n",
    "\n",
    "# Definir la fórmula de recurrencia\n",
    "def integral(n, prev):\n",
    "    return ( 1 / PI ) - (( 2*n*(2*n - 1)) / (PI**2)) * prev\n",
    "\n",
    "# Definir de forma manual el primer elemento\n",
    "prev = 2 / PI\n",
    "print(\"Integral para n=\", 0,\"; In = \", prev )\n",
    "\n",
    "# Crear un ciclo para calcular los primeros 30 valores de la recurrencia\n",
    "for n in range(1, 30):\n",
    "    prev = integral(n, prev)\n",
    "    print(\"Integral para n=\", n,\"; In = \", prev )"
   ]
  }
 ],
 "metadata": {
  "kernelspec": {
   "display_name": "base",
   "language": "python",
   "name": "python3"
  },
  "language_info": {
   "codemirror_mode": {
    "name": "ipython",
    "version": 3
   },
   "file_extension": ".py",
   "mimetype": "text/x-python",
   "name": "python",
   "nbconvert_exporter": "python",
   "pygments_lexer": "ipython3",
   "version": "3.12.7"
  }
 },
 "nbformat": 4,
 "nbformat_minor": 2
}

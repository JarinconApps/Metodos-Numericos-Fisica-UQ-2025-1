{
 "cells": [
  {
   "cell_type": "markdown",
   "metadata": {},
   "source": [
    "# Ejercicio \n",
    "Crear un *programa* en **Python** que dado un número en base binaria (2) lo convierta en decimal (10)"
   ]
  },
  {
   "cell_type": "code",
   "execution_count": 1,
   "metadata": {},
   "outputs": [],
   "source": [
    "# Importas las librerias necesarias\n",
    "import string\n",
    "import math"
   ]
  },
  {
   "cell_type": "markdown",
   "metadata": {},
   "source": [
    "## ***Función:*** BinToFloat\n",
    "\n",
    "- **Descripción:** Dado numeroBin un número binario, devuelve su representación en decimal\n",
    "- **Parámetros:** \n",
    "    - *numeroBinario:* Número Binario\n",
    "    - *console:* Valor booleano que indica si se muestran mensaje de prueba en la consola\n",
    "- **Valor de Retorno:** Representación decimal del binario ingresado"
   ]
  },
  {
   "cell_type": "code",
   "execution_count": 2,
   "metadata": {},
   "outputs": [],
   "source": [
    "def BinToFloat(numeroBinario):\n",
    "\n",
    "  \"\"\"\n",
    "  ## *Función:* BinToFloat\n",
    "\n",
    "  - **Descripción:** Dado numeroBin un número binario, devuelve su representación en decimal\n",
    "  - **Parámetros:** \n",
    "      - *numeroBinario:* Número Binario\n",
    "      - *console:* Valor booleano que indica si se muestran mensaje de prueba en la consola\n",
    "  - **Valor de Retorno:** Representación decimal del binario ingresado\n",
    "  \"\"\"\n",
    "\n",
    "  # Reemplazar el prefijo 0b de número binario por vacio\n",
    "  numeroBinario = numeroBinario.replace(\"0b\",\"\")\n",
    "\n",
    "  # Definir las cadenas que guardan el valor del número\n",
    "  entera=\"\"\n",
    "  decimal=\"\"\n",
    "\n",
    "  # Define el número flotante\n",
    "  pFlotante = 0\n",
    "  exp=1\n",
    "\n",
    "  # Crear un ciclo para obtener la parte entera del número binario\n",
    "  for i in numeroBinario:\n",
    "\n",
    "    # Determinar si la iteracción llego al punto flotante\n",
    "    if i==\".\":\n",
    "      break\n",
    "    entera=entera + i\n",
    "\n",
    "    # Copiar el número binario desde la posición 1\n",
    "    numeroBinario =numeroBinario[1:]\n",
    "\n",
    "  # Crear un ciclo para obtener la parte decimal del número binario\n",
    "  for i in numeroBinario:\n",
    "\n",
    "    # Concatenar el valor obtenido en la iteracción\n",
    "    decimal=decimal + i\n",
    "\n",
    "  # Crear un ciclo para convertir la parte entera a binario\n",
    "  for i in entera:\n",
    "    if i==\"1\":\n",
    "\n",
    "      # Convertir la posición binaria a decimal multiplicando por la potencia de 2\n",
    "      pFlotante = pFlotante + 2**(len(entera)-exp)\n",
    "\n",
    "    # Incrementar el exponente\n",
    "    exp=exp+1\n",
    "\n",
    "  # Crear un ciclo para convertir la parte decimal a binario\n",
    "  exp=0\n",
    "  for i in decimal:\n",
    "\n",
    "    # Determinar si el valor a convertir en 1 para proceder con la operación\n",
    "    if i==\"1\":\n",
    "      pFlotante = pFlotante + 1/2**(exp)\n",
    "\n",
    "    # Incrementar el valor del exponente\n",
    "    exp=exp+1\n",
    "\n",
    "  # Devolver el valor calculado\n",
    "  return pFlotante"
   ]
  },
  {
   "cell_type": "markdown",
   "metadata": {},
   "source": [
    "### Pruebas\n",
    "\n",
    "Verificar el uso de la función al convertir los siguientes valores\n",
    "\n",
    "- 1010.001111000000100000110001001001101110100101111001\n",
    "- 11111000101.000101001111110111110011101101100100010111\n",
    "- 11111001100.000000101110101100011100010000110010110011\n",
    "\n",
    "a número decimales"
   ]
  },
  {
   "cell_type": "code",
   "execution_count": 3,
   "metadata": {},
   "outputs": [
    {
     "name": "stdout",
     "output_type": "stream",
     "text": [
      "1010.001111000000100000110001001001101110100101111001  toDec:  10.2345\n",
      "11111000101.000101001111110111110011101101100100010111  toDec:  1989.082\n",
      "11111001100.000000101110101100011100010000110010110011  toDec:  1996.0114\n"
     ]
    }
   ],
   "source": [
    "# Prueba de la función\n",
    "numBin = [\"1010.001111000000100000110001001001101110100101111001\",\n",
    "          \"11111000101.000101001111110111110011101101100100010111\",\n",
    "          \"11111001100.000000101110101100011100010000110010110011\"]\n",
    "\n",
    "for n in range(len(numBin)):\n",
    "    numDec = BinToFloat(numBin[n])\n",
    "    print(numBin[n], \" toDec: \", numDec)"
   ]
  }
 ],
 "metadata": {
  "kernelspec": {
   "display_name": "base",
   "language": "python",
   "name": "python3"
  },
  "language_info": {
   "codemirror_mode": {
    "name": "ipython",
    "version": 3
   },
   "file_extension": ".py",
   "mimetype": "text/x-python",
   "name": "python",
   "nbconvert_exporter": "python",
   "pygments_lexer": "ipython3",
   "version": "3.12.7"
  }
 },
 "nbformat": 4,
 "nbformat_minor": 2
}

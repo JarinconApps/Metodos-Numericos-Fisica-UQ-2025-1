{
 "cells": [
  {
   "cell_type": "markdown",
   "metadata": {},
   "source": [
    "# Ejercicio\n",
    "Crear un *programa* en **Python** que permita calcular el número más grande que se puede representar con **64 bits**"
   ]
  },
  {
   "cell_type": "code",
   "execution_count": 20,
   "metadata": {},
   "outputs": [
    {
     "name": "stdout",
     "output_type": "stream",
     "text": [
      "Base:  1.9999999999999998\n",
      "Número más grande posible:  3.595386269724631416290548475E+308\n"
     ]
    }
   ],
   "source": [
    "# Importar la libreria Decimal\n",
    "from decimal import Decimal\n",
    "\n",
    "# Definir la base\n",
    "base = 1\n",
    "\n",
    "# Crear un ciclo de 1 a 52 para representar todos los unos (1) de la mantisa\n",
    "for i in range(1, 53):\n",
    "    base = base + 1/(2**i)\n",
    "\n",
    "# Mostrar el valor calculado\n",
    "print(\"Base: \", base)\n",
    "\n",
    "# Multiplicar el valor encontrado por 2**1024\n",
    "base = Decimal(base) * Decimal(2)**1024\n",
    "\n",
    "# Mostrar el número más grande posible\n",
    "print(\"Número más grande posible: \", base)"
   ]
  }
 ],
 "metadata": {
  "kernelspec": {
   "display_name": "base",
   "language": "python",
   "name": "python3"
  },
  "language_info": {
   "codemirror_mode": {
    "name": "ipython",
    "version": 3
   },
   "file_extension": ".py",
   "mimetype": "text/x-python",
   "name": "python",
   "nbconvert_exporter": "python",
   "pygments_lexer": "ipython3",
   "version": "3.12.7"
  }
 },
 "nbformat": 4,
 "nbformat_minor": 2
}

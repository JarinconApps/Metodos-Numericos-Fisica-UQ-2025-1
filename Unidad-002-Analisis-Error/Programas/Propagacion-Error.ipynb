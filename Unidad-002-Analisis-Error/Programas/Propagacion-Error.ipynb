{
 "cells": [
  {
   "cell_type": "markdown",
   "metadata": {},
   "source": [
    "# Ejercicio\n",
    "\n",
    "Crear un programa en Python que muestre los cálculos del problema: Computar $\\left(\\sqrt{2}-1\\right)^{6}$ utilizando $x=1.4$ valor aproximado de $\\sqrt{2}$. ¿Cuál de las expresiones siguientes es la más apropiada desde el punto de vista numérico? $$\\frac{1}{\\left(\\sqrt{2}+1\\right)^{6}},\\quad\\left(3-2\\sqrt{2}\\right)^{3},\\quad\\frac{1}{\\left(3+2\\sqrt{2}\\right)^{3}}$$"
   ]
  },
  {
   "cell_type": "code",
   "execution_count": 9,
   "metadata": {},
   "outputs": [],
   "source": [
    "# Importar las librerias necesarias\n",
    "from decimal import Decimal"
   ]
  },
  {
   "cell_type": "code",
   "execution_count": 2,
   "metadata": {},
   "outputs": [],
   "source": [
    "# Definir las funciones y sus derivadas\n",
    "def f1(x):\n",
    "    return 1 / ( x + 1)**6\n",
    "\n",
    "def f2(x):\n",
    "    return ( 3 - 2*x)**3\n",
    "\n",
    "def f3(x):\n",
    "    return 1 / ( 3 + 2*x )**3\n",
    "\n",
    "def Dxf1(x):\n",
    "    return -6 / ( x + 1 )**7\n",
    "\n",
    "def Dxf2(x):\n",
    "    return -6*( 3 - 2*x )*2\n",
    "\n",
    "def Dxf3(x):\n",
    "    return -6 / ( 3 + 2*x )**4"
   ]
  },
  {
   "cell_type": "code",
   "execution_count": 10,
   "metadata": {},
   "outputs": [
    {
     "name": "stdout",
     "output_type": "stream",
     "text": [
      "sqrt(2): 1.4142135623730951\n",
      "0.000182147002284417137973893119351487257517874240875244140625  =  0.00018314733099708506024357046459982711894554086029529571533203125\n",
      "0.00294936611665345439770025137704578810371458530426025390625  =  0.033600000000000025679458559579870779998600482940673828125\n",
      "0.00007462750498422009159948942169648944400250911712646484375  =  0.000074227923555135789132446155758060513107920996844768524169921875\n"
     ]
    }
   ],
   "source": [
    "# Definir y mostrar un valor de raíz de 2\n",
    "r2 = 2**(1/2)\n",
    "print(\"sqrt(2): \" + str(r2))\n",
    "x = 1.4\n",
    "\n",
    "# Definir el error absoluto de x\n",
    "ea_x = abs(x) * 1e-2\n",
    "\n",
    "# Calcular el lado izquiero de las ecuaciones\n",
    "l_eaf1 = Decimal(abs( f1(r2) - f1(x)))\n",
    "l_eaf2 = Decimal(abs( f2(r2) - f2(x)))\n",
    "l_eaf3 = Decimal(abs( f3(r2) - f3(x)))\n",
    "\n",
    "# Calcular el lado derecho de las ecuaciones\n",
    "r_eaf1 = Decimal(abs(Dxf1(x)) * ea_x)\n",
    "r_eaf2 = Decimal(abs(Dxf2(x)) * ea_x)\n",
    "r_eaf3 = Decimal(abs(Dxf3(x)) * ea_x)\n",
    "\n",
    "# Mostrar los dos cálculos en paralelo\n",
    "print(l_eaf1, \" = \", r_eaf1)\n",
    "print(l_eaf2, \" = \", r_eaf2)\n",
    "print(l_eaf3, \" = \", r_eaf3)\n"
   ]
  }
 ],
 "metadata": {
  "kernelspec": {
   "display_name": "base",
   "language": "python",
   "name": "python3"
  },
  "language_info": {
   "codemirror_mode": {
    "name": "ipython",
    "version": 3
   },
   "file_extension": ".py",
   "mimetype": "text/x-python",
   "name": "python",
   "nbconvert_exporter": "python",
   "pygments_lexer": "ipython3",
   "version": "3.12.7"
  }
 },
 "nbformat": 4,
 "nbformat_minor": 2
}

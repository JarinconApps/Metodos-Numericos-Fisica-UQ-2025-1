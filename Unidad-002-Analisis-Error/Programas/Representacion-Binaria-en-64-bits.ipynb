{
  "cells": [
    {
      "cell_type": "markdown",
      "metadata": {
        "id": "EQysbDczEBpr"
      },
      "source": [
        "# Ejercicio\n",
        "Crear un *programa* en **Python** que dado un número decimal genere su representación binaria en el formato de **64 bits**"
      ]
    },
    {
      "cell_type": "code",
      "execution_count": 1,
      "metadata": {
        "id": "0UAPOkU-EHx6"
      },
      "outputs": [],
      "source": [
        "# Importar las librerias necesarias\n",
        "import math"
      ]
    },
    {
      "cell_type": "code",
      "execution_count": null,
      "metadata": {},
      "outputs": [],
      "source": [
        "# Define la función FloatToBin\n",
        "def FloatToBin(numeroDecimal, console=False):\n",
        "  \n",
        "  \"\"\"\n",
        "  ## *Función:* FloatToBin\n",
        "  - **Descripción:** Esta función recibe como parámetro un número decimal y lo convierte a un número binario\n",
        "  - **Parámetros:** \n",
        "    - *numeroDecimal:* Número real\n",
        "    - *console:* Valor booleano que indica si se muestran mensaje de ayuda en la consola\n",
        "  - **Retorno:** Representación binaria del número decimal ingresado\n",
        "  \"\"\"\n",
        "\n",
        "  # Obtener la parte entera y la parte decimal\n",
        "  pInt = int(numeroDecimal)\n",
        "  pDec = numeroDecimal - pInt\n",
        "\n",
        "  if console:\n",
        "    print(\"Parte Entera: \", pInt)\n",
        "    print(\"Parte Decimal: \", pDec)\n",
        "\n",
        "  # Obtener la representación binaria de la parte entera\n",
        "  numBinInt = \"\"\n",
        "  while pInt > 0:\n",
        "\n",
        "    # Obtiene el residuo de la división entre 2\n",
        "    residuo = pInt % 2\n",
        "\n",
        "    # Crear la representación binaria\n",
        "    numBinInt = str(residuo) + numBinInt\n",
        "\n",
        "    # División entera para obtener el siguiente cociente\n",
        "    pInt = pInt // 2\n",
        "\n",
        "  # Obtener la representación binaria de la parte decimal\n",
        "  numBinDec = \"\"\n",
        "  while pDec != 0.0:\n",
        "\n",
        "    # Multiplica el decimal por 2\n",
        "    pDec = 2 * pDec\n",
        "\n",
        "    # Determinar el valor de la parte entera\n",
        "    b = int(pDec)\n",
        "\n",
        "    # Crear la representación decimal\n",
        "    numBinDec = numBinDec + str(b)\n",
        "\n",
        "    # Actualizar el valor de pDec\n",
        "    pDec = pDec - b\n",
        "\n",
        "  # Devolver la conversión del número ingresado\n",
        "  if numeroDecimal < 0:\n",
        "    if len(numBinDec)>0:\n",
        "      return \"-\" + numBinInt + \".\" + numBinDec\n",
        "    else:\n",
        "      return numBinInt\n",
        "  if numeroDecimal > 0:\n",
        "    if len(numBinDec)>0:\n",
        "      return \"-\" + numBinInt + \".\" + numBinDec\n",
        "    else:\n",
        "      return numBinInt"
      ]
    },
    {
      "cell_type": "markdown",
      "metadata": {
        "id": "UCaw2V-bELzz"
      },
      "source": [
        "## ***Función:*** representacionBinaria\n",
        "\n",
        "- **Descripcion:** Representa un número decimal a representación binaria de 64 bits\n",
        "- **Parámetros:**\n",
        "    - *numeroDecimal:* Número decimal a convertir\n",
        "    - *nMantisa:* Cantidad de elementos de la mantisa\n",
        "    - *nExp:* Cantidad de elementos del exponente\n",
        "    - *completarCeros:* Valor booleano que determina si completa con ceros la mantisa"
      ]
    },
    {
      "cell_type": "code",
      "execution_count": null,
      "metadata": {
        "colab": {
          "base_uri": "https://localhost:8080/"
        },
        "id": "_XsKuw_PFp1S",
        "outputId": "95b5e125-4cbc-4ff9-a2c3-d5a4c9364740"
      },
      "outputs": [],
      "source": [
        "# Define la función representacionBinaria\n",
        "def representacionBinaria(numeroDecimal, nMantisa = 52, nExp = 11, completarCeros = False):\n",
        "\n",
        "  \"\"\"\n",
        "  ## ***Función:*** representacionBinaria\n",
        "\n",
        "  - **Descripcion:** Representa un número decimal a representación binaria de 64 bits\n",
        "  - **Parámetros:**\n",
        "      - *numeroDecimal:* Número decimal a convertir\n",
        "      - *nMantisa:* Cantidad de elementos de la mantisa\n",
        "      - *nExp:* Cantidad de elementos del exponente\n",
        "      - *completarCeros:* Valor booleano que determina si completa con ceros la mantisa\n",
        "  \"\"\"\n",
        "\n",
        "  # Usar la función FloatToBin para convertir numeroDecimal a binario\n",
        "  binario = FloatToBin(numeroDecimal)\n",
        "\n",
        "  # Obtener el valor antes y después del punto\n",
        "  parteInt = binario.split('.')[0]\n",
        "  parteDec = binario.split('.')[1]\n",
        "\n",
        "  # Crear la mantisa\n",
        "  expC = len(parteInt) - 1\n",
        "  mantisa = parteInt[1:] + parteDec\n",
        "\n",
        "  # Completar los ceros de la mantisa\n",
        "  if completarCeros:\n",
        "    mantisa = mantisa + \"0\" * (nMantisa - len(mantisa))\n",
        "\n",
        "  # Crear el exponente\n",
        "  exponente = expC + 1023\n",
        "  binExp = FloatToBin(exponente)\n",
        "\n",
        "  # Crear el formato de representación decimal\n",
        "  if numeroDecimal > 0:\n",
        "    return \"|0|\" + mantisa + \"|\" + binExp + \"|\"\n",
        "  else:\n",
        "    return \"|1|\" + mantisa + \"|\" + binExp + \"|\"\n"
      ]
    },
    {
      "cell_type": "markdown",
      "metadata": {
        "id": "NMaQbagkK2AG"
      },
      "source": [
        "### Pruebas\n",
        "Probar la función con algunos números decimales concocidos: 3.14159265, 2.718281828 y 1.414213562"
      ]
    },
    {
      "cell_type": "code",
      "execution_count": 18,
      "metadata": {
        "colab": {
          "base_uri": "https://localhost:8080/"
        },
        "id": "bqaX8WlgK5lq",
        "outputId": "874b192f-8969-43f0-ec61-b4f90d4f3b5f"
      },
      "outputs": [
        {
          "name": "stdout",
          "output_type": "stream",
          "text": [
            "3.14159265  to64Bits =>  |0|1111110001010011010100001000000000000000000000000000|10000000100|\n",
            "2.718281828  to64Bits =>  |0|1111110001010011010100001000000000000000000000000000|10000000100|\n",
            "1.414213562  to64Bits =>  |0|1111110001010011010100001000000000000000000000000000|10000000100|\n",
            "-0.585786  to64Bits =>  |0|1111110001010011010100001000000000000000000000000000|10000000100|\n"
          ]
        }
      ],
      "source": [
        "# Probar la función\n",
        "numeros = [3.14159265, 2.718281828, 1.414213562, -0.585786]\n",
        "for n in numeros:\n",
        "    n64bits = representacionBinaria(31.54068088531494, completarCeros=True)\n",
        "    print(n, \" to64Bits => \",  n64bits)"
      ]
    }
  ],
  "metadata": {
    "colab": {
      "provenance": []
    },
    "kernelspec": {
      "display_name": "base",
      "language": "python",
      "name": "python3"
    },
    "language_info": {
      "codemirror_mode": {
        "name": "ipython",
        "version": 3
      },
      "file_extension": ".py",
      "mimetype": "text/x-python",
      "name": "python",
      "nbconvert_exporter": "python",
      "pygments_lexer": "ipython3",
      "version": "3.12.7"
    }
  },
  "nbformat": 4,
  "nbformat_minor": 0
}

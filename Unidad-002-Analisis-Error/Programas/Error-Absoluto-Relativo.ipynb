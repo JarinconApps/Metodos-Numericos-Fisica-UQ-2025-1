{
 "cells": [
  {
   "cell_type": "markdown",
   "metadata": {},
   "source": [
    "# Ejercicio\n",
    "Crear un *programa* en **Python** que calcule el **error absoluto** y el **error relativo** dado un número y su redondeo a $k$ cifras significativas."
   ]
  },
  {
   "cell_type": "code",
   "execution_count": 2,
   "metadata": {},
   "outputs": [],
   "source": [
    "# Importar las librerias necesarias\n",
    "import math\n",
    "from decimal import Decimal"
   ]
  },
  {
   "cell_type": "markdown",
   "metadata": {},
   "source": [
    "## ***Función***: errorNumero\n",
    "- **Descripción:** Calcular el **error absoluto y relativo** de un número al redondear a $k$ cifras signficativas\n",
    "- **Parámetros:**\n",
    "    - *numero:* Número a procesar\n",
    "    - *cifras:* Cantidad de cifras significativas\n",
    "    - *console:* Valor booleando que determina si se muestran mensaje de prueba en la consola\n",
    "- **Valor de Retorno:** Un string con el error absoluto y relativo del número ingresado"
   ]
  },
  {
   "cell_type": "code",
   "execution_count": null,
   "metadata": {},
   "outputs": [],
   "source": [
    "# Definir la función errorNumero\n",
    "def errorNumero(numero, cifras, console=False):\n",
    "\n",
    "    \"\"\"\n",
    "    ## ***Función***: errorNumero\n",
    "    - **Descripción:** Calcular el **error absoluto y relativo** de un número al redondear a $k$ cifras signficativas\n",
    "    - **Parámetros:**\n",
    "        - *numero:* Número a procesar\n",
    "        - *cifras:* Cantidad de cifras significativas\n",
    "        - *console:* Valor booleando que determina si se muestran mensaje de prueba en la consola\n",
    "    - **Valor de Retorno:** Un string con el error absoluto y relativo del número ingresado\n",
    "    \"\"\"\n",
    "\n",
    "    # Convertir el número a formato decimal\n",
    "    nRedondeado = round(numero, cifras)\n",
    "    if console:\n",
    "        print(\"Número Redondeado: \", nRedondeado)\n",
    "\n",
    "    # Calcular el error absoluto\n",
    "    errorAbsoluto = abs(numero - nRedondeado)\n",
    "    if console:\n",
    "        print(\"Error Absoluto: \", errorAbsoluto)\n",
    "\n",
    "    # Calcular el error relativo\n",
    "    errorRelativo = errorAbsoluto / abs(numero)\n",
    "    if console:\n",
    "        print(\"Error Relativo: \", errorRelativo)\n",
    "\n",
    "    # Devolvemos el resultado\n",
    "    return \"ea = \" + str(errorAbsoluto) + \", er = \" + str(errorRelativo)\n",
    "\n",
    "# Probar la Función\n",
    "# print(errorNumero(3.141592654, 3, console=True))"
   ]
  },
  {
   "cell_type": "markdown",
   "metadata": {},
   "source": [
    "### Pruebas\n",
    "Realizar las pruebas de la función con algunos valores"
   ]
  },
  {
   "cell_type": "code",
   "execution_count": 9,
   "metadata": {},
   "outputs": [
    {
     "name": "stdout",
     "output_type": "stream",
     "text": [
      "ea = 0.0004073464102067881, er = 0.0001296623894702984\n",
      "ea = 0.0002818284590451192, er = 0.00010367889601972718\n",
      "ea = 3.398874989479772e-05, er = 2.1006202670104405e-05\n"
     ]
    }
   ],
   "source": [
    "# Probar la función\n",
    "valores = [math.pi, math.exp(1), (1+5**(1/2))/2]\n",
    "for valor in valores:\n",
    "    print(errorNumero(valor, 3))"
   ]
  }
 ],
 "metadata": {
  "kernelspec": {
   "display_name": "base",
   "language": "python",
   "name": "python3"
  },
  "language_info": {
   "codemirror_mode": {
    "name": "ipython",
    "version": 3
   },
   "file_extension": ".py",
   "mimetype": "text/x-python",
   "name": "python",
   "nbconvert_exporter": "python",
   "pygments_lexer": "ipython3",
   "version": "3.12.7"
  }
 },
 "nbformat": 4,
 "nbformat_minor": 2
}

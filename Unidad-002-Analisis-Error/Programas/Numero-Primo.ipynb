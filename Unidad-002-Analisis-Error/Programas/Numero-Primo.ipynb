{
 "cells": [
  {
   "cell_type": "markdown",
   "metadata": {},
   "source": [
    "# Ejemplo\n",
    "\n",
    "Escribir un programa para determinar si un número es primo"
   ]
  },
  {
   "cell_type": "code",
   "execution_count": 5,
   "metadata": {},
   "outputs": [
    {
     "name": "stdout",
     "output_type": "stream",
     "text": [
      "512587  no es primo\n"
     ]
    }
   ],
   "source": [
    "# Importar las librerias necesarias\n",
    "import math\n",
    "\n",
    "# Definir el número a evaluar\n",
    "numero = 512587\n",
    "\n",
    "# Inicializar el divisor en 2\n",
    "divisor = 1\n",
    "\n",
    "# Crear un ciclo para contar los divisores del número\n",
    "for i in range(2, numero + 1):\n",
    "\n",
    "    # Determinar si i es divisor de numero\n",
    "    if (numero % i == 0):\n",
    "        divisor = divisor + 1\n",
    "\n",
    "# Si el divisor es igual a 2 es un primo\n",
    "if divisor == 2:\n",
    "    print(numero, \" es primo\")\n",
    "else:\n",
    "    print(numero, \" no es primo\")\n"
   ]
  }
 ],
 "metadata": {
  "kernelspec": {
   "display_name": "base",
   "language": "python",
   "name": "python3"
  },
  "language_info": {
   "codemirror_mode": {
    "name": "ipython",
    "version": 3
   },
   "file_extension": ".py",
   "mimetype": "text/x-python",
   "name": "python",
   "nbconvert_exporter": "python",
   "pygments_lexer": "ipython3",
   "version": "3.12.7"
  }
 },
 "nbformat": 4,
 "nbformat_minor": 2
}

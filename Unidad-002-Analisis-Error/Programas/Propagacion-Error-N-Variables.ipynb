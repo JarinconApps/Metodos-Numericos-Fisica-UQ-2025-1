{
 "cells": [
  {
   "cell_type": "markdown",
   "metadata": {},
   "source": [
    "# Ejercicio\n",
    "\n",
    "Crear un *programa* en **Python** en el que se calcule el valor del **error** del siguiente problema: Calcular el área de un círculo donde $e_{a}\\left(\\pi\\right)$ y $e_{a}\\left(r\\right)$ son los errores absolutos de los valores $\\pi$  y el radio $r$"
   ]
  },
  {
   "cell_type": "code",
   "execution_count": 4,
   "metadata": {},
   "outputs": [
    {
     "name": "stdout",
     "output_type": "stream",
     "text": [
      "Error:  0.007294286999999999\n"
     ]
    }
   ],
   "source": [
    "# Definir las funciones y sus derivadas parciales\n",
    "def fArea(valPi, valR):\n",
    "    return valPi * valR**2\n",
    "\n",
    "def dP_Api(valPi, valR):\n",
    "    return valR**2\n",
    "\n",
    "def dP_Ar(valPi, valR):\n",
    "    return 2 * valPi * valR \n",
    "\n",
    "# Definir los valores absolutos del problema\n",
    "ea_pi = 0.001\n",
    "ea_r = 0.001\n",
    "\n",
    "valR = 1\n",
    "valPi = 3.142\n",
    "\n",
    "# Calcular el error\n",
    "errorPi = dP_Api(valPi + ea_pi, valR + ea_r) * ea_pi\n",
    "errorR = dP_Ar(valPi + ea_pi, valR + ea_r) * ea_r\n",
    "\n",
    "error = errorPi + errorR\n",
    "\n",
    "# Mostrar el error\n",
    "print(\"Error: \", error)"
   ]
  }
 ],
 "metadata": {
  "kernelspec": {
   "display_name": "base",
   "language": "python",
   "name": "python3"
  },
  "language_info": {
   "codemirror_mode": {
    "name": "ipython",
    "version": 3
   },
   "file_extension": ".py",
   "mimetype": "text/x-python",
   "name": "python",
   "nbconvert_exporter": "python",
   "pygments_lexer": "ipython3",
   "version": "3.12.7"
  }
 },
 "nbformat": 4,
 "nbformat_minor": 2
}

{
 "cells": [
  {
   "cell_type": "markdown",
   "metadata": {},
   "source": [
    "# Ejercicio\n",
    "Crear un *programa* en **Python** que calcule el valor e con una precisión de $6$ cifras decimales"
   ]
  },
  {
   "cell_type": "code",
   "execution_count": 1,
   "metadata": {},
   "outputs": [],
   "source": [
    "# Importar las librerias necesarias\n",
    "import math"
   ]
  },
  {
   "cell_type": "markdown",
   "metadata": {},
   "source": [
    "## ***Función***: nError\n",
    "- **Descripción:** Determina cuántos pasos necesita la serie de **Maclaurin** para encontrar una aproximación del valor de $\\exp(1)$ con  una *Tolerancia* dada\n",
    "- **Parámetros:** \n",
    "    - **error:** El valor del error esperado en la aproximación\n",
    "- **Valor de Retorno:** Cantidad de pasos en la serie de **MacLaurin**"
   ]
  },
  {
   "cell_type": "code",
   "execution_count": 2,
   "metadata": {},
   "outputs": [],
   "source": [
    "def nError(error):\n",
    "  \"\"\"\n",
    "  ## ***Función***: nError\n",
    "  - **Descripción:** Determina cuántos pasos necesita la serie de **Maclaurin** para encontrar una aproximación del valor de $\\\\exp(1)$ con  una *Tolerancia* dada\n",
    "  - **Parámetros:** \n",
    "      - **error:** El valor del error esperado en la aproximación\n",
    "  - **Valor de Retorno:** Cantidad de pasos en la serie de **MacLaurin**\n",
    "  \"\"\"\n",
    "\n",
    "  # Define el primer valor de la serie de MacLaurin\n",
    "  m = 2\n",
    "\n",
    "  # Incrementa el número de pasos hasta conseguir que el error asociado a la serie de MacLaurin sea menor\n",
    "  # que el error enviado en el parámetro\n",
    "  while (3.0 / math.factorial(m + 1) >= error):\n",
    "    m = m + 1\n",
    "  return(m)"
   ]
  },
  {
   "cell_type": "markdown",
   "metadata": {},
   "source": [
    "### Pruebas\n",
    "Usa la función *nError* para determinar cuántos pasos se necesitan en la serie de **MacLaurin** para encontrar una aproximación del valor de $\\exp(1)$ con un error de $1\\times10^{-6}$"
   ]
  },
  {
   "cell_type": "code",
   "execution_count": 3,
   "metadata": {},
   "outputs": [
    {
     "name": "stdout",
     "output_type": "stream",
     "text": [
      "Pasos:  9\n"
     ]
    }
   ],
   "source": [
    "# Probar la función\n",
    "pasos = nError(1e-6)\n",
    "print(\"Pasos: \", pasos)"
   ]
  }
 ],
 "metadata": {
  "kernelspec": {
   "display_name": "base",
   "language": "python",
   "name": "python3"
  },
  "language_info": {
   "codemirror_mode": {
    "name": "ipython",
    "version": 3
   },
   "file_extension": ".py",
   "mimetype": "text/x-python",
   "name": "python",
   "nbconvert_exporter": "python",
   "pygments_lexer": "ipython3",
   "version": "3.12.7"
  }
 },
 "nbformat": 4,
 "nbformat_minor": 2
}

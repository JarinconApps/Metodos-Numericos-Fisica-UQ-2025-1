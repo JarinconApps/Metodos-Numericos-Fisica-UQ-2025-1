{
 "cells": [
  {
   "cell_type": "markdown",
   "metadata": {},
   "source": [
    "# Ejercicio\n",
    "Crear un *programa* en **Python** que calcule el valor aproximado de $\\exp\\left(1\\right)$ pasando como argumento la cantidad de pasos en la serie de **Maclaurin**."
   ]
  },
  {
   "cell_type": "code",
   "execution_count": 1,
   "metadata": {},
   "outputs": [],
   "source": [
    "# Importas las librerias necesarias\n",
    "import math"
   ]
  },
  {
   "cell_type": "markdown",
   "metadata": {},
   "source": [
    "## ***Función:*** expMaclaurin\n",
    "- **Descripción:** Calcula el valor aproximado de $\\exp(1)$ con n pasos sobre la serie de **Maclaurin**\n",
    "- **Parámetros:**\n",
    "    - *pasos:* Cantidad de pasos a calcular en la serie de **Maclaurin**\n",
    "- **Valor de Retorno:** Valor aproximado de $\\exp(1)$"
   ]
  },
  {
   "cell_type": "code",
   "execution_count": 5,
   "metadata": {},
   "outputs": [],
   "source": [
    "# Definir la función expMaclaurin\n",
    "def expMaclaurin(pasos):\n",
    "\n",
    "    \"\"\"\n",
    "    ## ***Función:*** expMaclaurin\n",
    "    - **Descripción:** Calcula el valor aproximado de $\\\\exp(1)$ con n pasos sobre la serie de **Maclaurin**\n",
    "    - **Parámetros:**\n",
    "        - *pasos:* Cantidad de pasos a calcular en la serie de **Maclaurin**\n",
    "    - **Valor de Retorno:** Valor aproximado de $\\\\exp(1)$\n",
    "    \"\"\"\n",
    "\n",
    "    # Iniciar la suma en cero (0)\n",
    "    serieMaclaurin = 0\n",
    "\n",
    "    # Crear un ciclo para realizar la aproximación\n",
    "    for i in range(0, pasos + 1):\n",
    "        serieMaclaurin = serieMaclaurin + 1/math.factorial(i)\n",
    "    \n",
    "    # Devuelve el resultado\n",
    "    return serieMaclaurin"
   ]
  },
  {
   "cell_type": "markdown",
   "metadata": {},
   "source": [
    "### Pruebas\n",
    "\n",
    "Probar la función con diferentes pasos: 3, 6, 9 y 20"
   ]
  },
  {
   "cell_type": "code",
   "execution_count": 8,
   "metadata": {},
   "outputs": [
    {
     "name": "stdout",
     "output_type": "stream",
     "text": [
      "expMaclaurin(3) =  2.6666666666666665\n",
      "expMaclaurin(6) =  2.7180555555555554\n",
      "expMaclaurin(9) =  2.7182815255731922\n",
      "expMaclaurin(20) =  2.7182818284590455\n"
     ]
    }
   ],
   "source": [
    "# Probar la Función\n",
    "pasos = [3, 6, 9, 20]\n",
    "for i in pasos:\n",
    "    eAprox = expMaclaurin(i)\n",
    "    print(\"expMaclaurin(\"+str(i)+\") = \", eAprox);"
   ]
  }
 ],
 "metadata": {
  "kernelspec": {
   "display_name": "base",
   "language": "python",
   "name": "python3"
  },
  "language_info": {
   "codemirror_mode": {
    "name": "ipython",
    "version": 3
   },
   "file_extension": ".py",
   "mimetype": "text/x-python",
   "name": "python",
   "nbconvert_exporter": "python",
   "pygments_lexer": "ipython3",
   "version": "3.12.7"
  }
 },
 "nbformat": 4,
 "nbformat_minor": 2
}
